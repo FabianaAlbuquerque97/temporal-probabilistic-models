{
  "nbformat": 4,
  "nbformat_minor": 0,
  "metadata": {
    "colab": {
      "provenance": [],
      "authorship_tag": "ABX9TyO9vnsKiccBXLwBffZ/iJUo",
      "include_colab_link": true
    },
    "kernelspec": {
      "name": "python3",
      "display_name": "Python 3"
    },
    "language_info": {
      "name": "python"
    },
    "widgets": {
      "application/vnd.jupyter.widget-state+json": {
        "237facc3c372487da917abdfb78a2743": {
          "model_module": "@jupyter-widgets/controls",
          "model_name": "VBoxModel",
          "model_module_version": "1.5.0",
          "state": {
            "_dom_classes": [
              "widget-interact"
            ],
            "_model_module": "@jupyter-widgets/controls",
            "_model_module_version": "1.5.0",
            "_model_name": "VBoxModel",
            "_view_count": null,
            "_view_module": "@jupyter-widgets/controls",
            "_view_module_version": "1.5.0",
            "_view_name": "VBoxView",
            "box_style": "",
            "children": [
              "IPY_MODEL_bcfdc433ae4f484697af0b785d6e5a7e",
              "IPY_MODEL_c41151f316d34ccf8b8eed777cb0933b",
              "IPY_MODEL_5526cf9b809d4e329aab40c1d3720df3",
              "IPY_MODEL_1e05941771e745339bf777e8a25cabab"
            ],
            "layout": "IPY_MODEL_de4545d6f57d4182bea98b60ece6c378"
          }
        },
        "bcfdc433ae4f484697af0b785d6e5a7e": {
          "model_module": "@jupyter-widgets/controls",
          "model_name": "ToggleButtonsModel",
          "model_module_version": "1.5.0",
          "state": {
            "_dom_classes": [],
            "_model_module": "@jupyter-widgets/controls",
            "_model_module_version": "1.5.0",
            "_model_name": "ToggleButtonsModel",
            "_options_labels": [
              "0",
              "1"
            ],
            "_view_count": null,
            "_view_module": "@jupyter-widgets/controls",
            "_view_module_version": "1.5.0",
            "_view_name": "ToggleButtonsView",
            "button_style": "",
            "description": "Febre",
            "description_tooltip": null,
            "disabled": false,
            "icons": [],
            "index": 0,
            "layout": "IPY_MODEL_80cc9d5d0e2f4bf1a1e3b39364c4b6ff",
            "style": "IPY_MODEL_16e69fe622de483d83138200d2d03700",
            "tooltips": []
          }
        },
        "c41151f316d34ccf8b8eed777cb0933b": {
          "model_module": "@jupyter-widgets/controls",
          "model_name": "ToggleButtonsModel",
          "model_module_version": "1.5.0",
          "state": {
            "_dom_classes": [],
            "_model_module": "@jupyter-widgets/controls",
            "_model_module_version": "1.5.0",
            "_model_name": "ToggleButtonsModel",
            "_options_labels": [
              "0",
              "1"
            ],
            "_view_count": null,
            "_view_module": "@jupyter-widgets/controls",
            "_view_module_version": "1.5.0",
            "_view_name": "ToggleButtonsView",
            "button_style": "",
            "description": "Tosse",
            "description_tooltip": null,
            "disabled": false,
            "icons": [],
            "index": 0,
            "layout": "IPY_MODEL_5e065beba4544d83838e421560164d6e",
            "style": "IPY_MODEL_9f80685577c44e2a8058a8ffde2c8213",
            "tooltips": []
          }
        },
        "5526cf9b809d4e329aab40c1d3720df3": {
          "model_module": "@jupyter-widgets/controls",
          "model_name": "ToggleButtonsModel",
          "model_module_version": "1.5.0",
          "state": {
            "_dom_classes": [],
            "_model_module": "@jupyter-widgets/controls",
            "_model_module_version": "1.5.0",
            "_model_name": "ToggleButtonsModel",
            "_options_labels": [
              "0",
              "1"
            ],
            "_view_count": null,
            "_view_module": "@jupyter-widgets/controls",
            "_view_module_version": "1.5.0",
            "_view_name": "ToggleButtonsView",
            "button_style": "",
            "description": "Fadiga",
            "description_tooltip": null,
            "disabled": false,
            "icons": [],
            "index": 0,
            "layout": "IPY_MODEL_e21497e814084d82a31278b617d0cad4",
            "style": "IPY_MODEL_09a5f1f32d4c49ebb37df2e75fd516ed",
            "tooltips": []
          }
        },
        "1e05941771e745339bf777e8a25cabab": {
          "model_module": "@jupyter-widgets/output",
          "model_name": "OutputModel",
          "model_module_version": "1.0.0",
          "state": {
            "_dom_classes": [],
            "_model_module": "@jupyter-widgets/output",
            "_model_module_version": "1.0.0",
            "_model_name": "OutputModel",
            "_view_count": null,
            "_view_module": "@jupyter-widgets/output",
            "_view_module_version": "1.0.0",
            "_view_name": "OutputView",
            "layout": "IPY_MODEL_9535fc1251324aaf953ffc125775a6a9",
            "msg_id": "",
            "outputs": [
              {
                "output_type": "stream",
                "name": "stdout",
                "text": [
                  "\n",
                  "Evidência: Febre=0, Tosse=0, Fadiga=0\n",
                  "Resultado da Inferência:\n",
                  "Saudável: 1.00\n",
                  "\n",
                  "✅ Doença mais provável: **Saudável** com probabilidade de 100.00%\n"
                ]
              },
              {
                "output_type": "stream",
                "name": "stderr",
                "text": [
                  "<ipython-input-17-05e86a3d3b52>:74: FutureWarning: \n",
                  "\n",
                  "Passing `palette` without assigning `hue` is deprecated and will be removed in v0.14.0. Assign the `x` variable to `hue` and set `legend=False` for the same effect.\n",
                  "\n",
                  "  sns.barplot(data=df, x='Estado', y='Probabilidade', palette='coolwarm')\n"
                ]
              },
              {
                "output_type": "display_data",
                "data": {
                  "text/plain": "<Figure size 600x400 with 1 Axes>",
                  "image/png": "iVBORw0KGgoAAAANSUhEUgAAAhgAAAGJCAYAAADIVkprAAAAOnRFWHRTb2Z0d2FyZQBNYXRwbG90bGliIHZlcnNpb24zLjEwLjAsIGh0dHBzOi8vbWF0cGxvdGxpYi5vcmcvlHJYcgAAAAlwSFlzAAAPYQAAD2EBqD+naQAAOX5JREFUeJzt3XlcVGX///E3IAyCssguEiDmViKmSW5pSeKG2mJmC2qWd7flEi2KuZdRlkaaSfZNy7vNNDNLQxM175K7UrMsl9z1VkFwAUUFHc7vj37O3QgYjEcRez0fj3k8mGuuc87nzEzOu+tc5xwnwzAMAQAAmMi5sgsAAADXHgIGAAAwHQEDAACYjoABAABMR8AAAACmI2AAAADTETAAAIDpCBgAAMB0BAwAAGA6Agb+FsaPHy8nJ6crsq0OHTqoQ4cOtuerV6+Wk5OTFixYYNo29uzZIycnJ7377rsVXnbBggXy8fFRmzZttH37dg0aNEipqamm1XYxTk5OGj9+/BXZlpnOf39yc3NNW2dERIS6d+/+l/3Of39Wr15ta+vfv78iIiLs+pX3vb0c/y1ERESof//+pq4TVR8BA1XOu+++KycnJ9vD3d1dtWvXVnx8vKZNm6YTJ06Ysp2DBw9q/Pjx2rhxoynru1pMnjxZgwYNUkhIiBo2bKiFCxeqV69elV2WQyIiIuy+C4GBgWrXrp0+++yzyi4N+NurVtkFAI6aOHGiIiMjdfbsWWVlZWn16tUaPny4pk6dqsWLFys6OtrWd/To0Ro5cmSF1n/w4EFNmDBBERERiomJKfdyy5cvr9B2HBEeHq7Tp0/L1dW1wsvOnz9foaGhqlatmnJyclSzZk25u7tfhiqvjJiYGD311FOS/vjM3nrrLd11112aOXOmHnvssUqu7tLdeuutOn36tNzc3C7a7/Tp06pWjX/ScfXg24gqq0uXLmrRooXteXJyslauXKnu3burR48e2rJli6pXry5Jqlat2mX/x/fUqVPy8PD4yx8CM5wfuXFEeHi47e+AgACzSqo0oaGhevDBB23PExMTVa9ePb322mtlBoxz586puLj4inxWl8rZ2blcn3VVDom4NnGIBNeU22+/XWPGjNHevXv1/vvv29pLO+789ddfq23btvLx8VGNGjXUoEEDjRo1StIfx71vvvlmSdKAAQNsQ/Dn5zx06NBBN954o9avX69bb71VHh4etmUvnINxntVq1ahRoxQcHCxPT0/16NFD+/fvt+tT1rHsC9dZ1hyMrVu36t5771VAQICqV6+uBg0a6LnnnrO9vnv3bv3zn/9U/fr1Vb16dfn5+al3797as2dPiW3u2rVLvXv3Vq1ateTh4aFbbrlFS5YsKdGvNIWFhXryyScVEBCgmjVrqkePHvrvf/9bat8DBw7o4YcfVlBQkCwWi2644QbNnj27XNspTXBwsBo1aqTdu3dL+t979eqrryo1NVVRUVGyWCzavHmzJGnlypVq166dPD095ePjo549e2rLli2lrjs3N1f33nuvvLy85Ofnp2HDhunMmTN2febMmaPbb79dgYGBslgsaty4sWbOnFlmvcuXL1dMTIzc3d3VuHFjLVy40O710uZglKa0ORjffvutbr75Zrm7uysqKkpvvfVWqcuWt2bDMPTCCy+oTp068vDw0G233abffvut1HUeP35cw4cPV1hYmCwWi+rVq6eXX35ZxcXFF90PXDsYwcA156GHHtKoUaO0fPlyPfroo6X2+e2339S9e3dFR0dr4sSJslgs2rFjh7777jtJUqNGjTRx4kSNHTtWgwYNUrt27SRJrVu3tq3jyJEj6tKli+677z49+OCDCgoKumhdkyZNkpOTk0aMGKHDhw8rNTVVcXFx2rhxo22k5VL88ssvateunVxdXTVo0CBFRERo586d+uKLLzRp0iRJ0vfff6/MzEz17dtXderU0e7du5WWlqYOHTpo8+bN8vDwkCRlZ2erdevWOnXqlIYOHSo/Pz+999576tGjhxYsWKA777zzorU88sgjev/993X//ferdevWWrlypbp161aiX3Z2tm655RY5OTnpiSeeUEBAgL766isNHDhQ+fn5Gj58eIXfh7Nnz2r//v3y8/Oza58zZ47OnDmjQYMGyWKxqFatWlqxYoW6dOmiunXravz48Tp9+rSmT5+uNm3aaMOGDSUmUt57772KiIhQSkqK/vOf/2jatGk6duyY5s6da+szc+ZM3XDDDerRo4eqVaumL774QoMHD1ZxcbEef/xxu/Vt375dffr00WOPPaZ+/fppzpw56t27t9LT03XHHXdUeN//bNOmTerUqZMCAgI0fvx4nTt3TuPGjSv1e1remseOHasXXnhBXbt2VdeuXbVhwwZ16tRJRUVFdus7deqU2rdvrwMHDugf//iHrrvuOq1du1bJyck6dOjQFZtUjEpmAFXMnDlzDEnGjz/+WGYfb29vo1mzZrbn48aNM/78dX/ttdcMSUZOTk6Z6/jxxx8NScacOXNKvNa+fXtDkpGWllbqa+3bt7c9X7VqlSHJCA0NNfLz823tn3zyiSHJeP31121t4eHhRr9+/f5ynbt37y5R26233mrUrFnT2Lt3r92yxcXFtr9PnTpVYt2ZmZmGJGPu3Lm2tuHDhxuSjH//+9+2thMnThiRkZFGRESEYbVaS6znvI0bNxqSjMGDB9u133///YYkY9y4cba2gQMHGiEhIUZubq5d3/vuu8/w9vYutd4/Cw8PNzp16mTk5OQYOTk5xs8//2zcd999hiRjyJAhhmH8773y8vIyDh8+bLd8TEyMERgYaBw5csTW9vPPPxvOzs5GYmKire3896dHjx52yw8ePNiQZPz888+2ttJqjo+PN+rWrVuidknGp59+amvLy8szQkJC7L67578/q1atsrX169fPCA8Pt1vfhe9tr169DHd3d7vvw+bNmw0XFxfjwn/6y1Pz4cOHDTc3N6Nbt25236lRo0YZkuy+t88//7zh6elp/P7773brHDlypOHi4mLs27evxPZw7eEQCa5JNWrUuOjZJD4+PpKkzz//3OEhW4vFogEDBpS7f2JiomrWrGl7fs899ygkJERLly51aPt/lpOTozVr1ujhhx/WddddZ/fanw8N/Xmk5OzZszpy5Ijq1asnHx8fbdiwwfba0qVL1bJlS7Vt29bWVqNGDQ0aNEh79uyxHV4ozfn9GTp0qF37haMRhmHo008/VUJCggzDUG5uru0RHx+vvLw8u5rKsnz5cgUEBCggIEBNmzbV/Pnz9dBDD+nll1+263f33XfbzTk5dOiQNm7cqP79+6tWrVq29ujoaN1xxx2lfi4XjkAMGTLEbp8l+/c4Ly9Pubm5at++vXbt2qW8vDy75WvXrm03GuTl5aXExET99NNPysrK+st9L4vVatWyZcvUq1cvu+9Do0aNFB8fX6J/eWpesWKFioqKNGTIELvvVGmjTPPnz1e7du3k6+tr97nGxcXJarVqzZo1Du8bqg4CBq5JJ0+etPsxv1CfPn3Upk0bPfLIIwoKCtJ9992nTz75pEJhIzQ0tEKTBK+//nq7505OTqpXr16p8x8qateuXZKkG2+88aL9Tp8+rbFjx9qOi/v7+ysgIEDHjx+3+/Hbu3evGjRoUGL5Ro0a2V4vy969e+Xs7KyoqCi79gvXl5OTo+PHj2vWrFm2gHD+cT64HT58+KL7I0mxsbH6+uuvtWLFCq1du1a5ubmaO3duicNOkZGRJeosra7z+5mbm6uCggK79gs/w6ioKDk7O9t9ht99953i4uJsczoCAgJs83MuDBj16tUrMTeofv36knRJ34ucnBydPn26RL1S6ftbnprPv18XrjMgIEC+vr52bdu3b1d6enqJzzUuLk5S+T5XVH3MwcA157///a/y8vJUr169MvtUr15da9as0apVq7RkyRKlp6dr3rx5uv3227V8+XK5uLj85XbMmDdxobIugGS1WstV018ZMmSI5syZo+HDh6tVq1by9vaWk5OT7rvvvis++e789h588EH169ev1D5/PtW4LP7+/rYfrou5Ep/Xzp071bFjRzVs2FBTp05VWFiY3NzctHTpUr322mtX5QTHy1FzcXGx7rjjDj377LOlvn4+ROHaRsDANedf//qXJJU6FPxnzs7O6tixozp27KipU6fqxRdf1HPPPadVq1YpLi7O9Ksdbt++3e65YRjasWOH3Y+or6+vjh8/XmLZvXv3qm7dumWu+/xrv/7660VrWLBggfr166cpU6bY2s6cOVNim+Hh4dq2bVuJ5bdu3Wp7vSzh4eEqLi7Wzp077f5v+cL1nT/DxGq1lisgmO38PpS1n/7+/vL09LRr3759u91IyI4dO1RcXGybDPrFF1+osLBQixcvtjs0sWrVqlJr2LFjhwzDsPuu/f7775JUYoJpRZw/i+jC75xUcn/LW/P592v79u1238WcnBwdO3bMrm9UVJROnjxZKZ8rrh4cIsE1ZeXKlXr++ecVGRmpBx54oMx+R48eLdF2/mJahYWFkmT7cSntB98Rc+fOtZsXsmDBAh06dEhdunSxtUVFRek///mP3az8L7/8ssTprBcKCAjQrbfeqtmzZ2vfvn12rxmGYfvbxcXF7rkkTZ8+XVar1a6ta9eu+uGHH5SZmWlrKygo0KxZsxQREaHGjRuXWcv5/Zk2bZpd+4VnDri4uOjuu+/Wp59+WmowysnJKXMbZggJCVFMTIzee+89u8/4119/1fLly9W1a9cSy8yYMcPu+fTp0yX9b5/PjzL9+T3Oy8vTnDlzSq3h4MGDdlcdzc/P19y5cxUTE6Pg4GDHduz/1xEfH69FixbZfR+2bNmiZcuWlehbnprj4uLk6uqq6dOn2/Ut7YyQe++9V5mZmSW2Jf3x39O5c+cc2i9ULYxgoMr66quvtHXrVp07d07Z2dlauXKlvv76a4WHh2vx4sUXvfDQxIkTtWbNGnXr1k3h4eE6fPiw3nzzTdWpU8c2sTEqKko+Pj5KS0tTzZo15enpqdjY2BLH8surVq1aatu2rQYMGKDs7GylpqaqXr16dqfSPvLII1qwYIE6d+6se++9Vzt37tT7779fYj5DaaZNm6a2bdvqpptu0qBBgxQZGak9e/ZoyZIltsudd+/eXf/617/k7e2txo0bKzMzUytWrChxSufIkSP10UcfqUuXLho6dKhq1aql9957T7t379ann34qZ+ey/98kJiZGffv21Ztvvqm8vDy1bt1aGRkZ2rFjR4m+L730klatWqXY2Fg9+uijaty4sY4ePaoNGzZoxYoVpQZBM73yyivq0qWLWrVqpYEDB9pOU/X29i71vh67d+9Wjx491LlzZ2VmZtpOxW3atKkkqVOnTnJzc1NCQoL+8Y9/6OTJk3r77bcVGBioQ4cOlVhf/fr1NXDgQP34448KCgrS7NmzlZ2dXWYgqYgJEyYoPT1d7dq10+DBg3Xu3DlNnz5dN9xwg3755Rdbv/LWHBAQoKefflopKSnq3r27unbtqp9++klfffWV/P397bb9zDPPaPHixerevbv69++v5s2bq6CgQJs2bdKCBQu0Z8+eEsvgGlRp568ADjp/mur5h5ubmxEcHGzccccdxuuvv253Kuh5F56mmpGRYfTs2dOoXbu24ebmZtSuXdvo27dvidPqPv/8c6Nx48ZGtWrV7E4Lbd++vXHDDTeUWl9Zp6l+9NFHRnJyshEYGGhUr17d6NatW4lTSg3DMKZMmWKEhoYaFovFaNOmjbFu3bpynaZqGIbx66+/Gnfeeafh5eVlSDIaNGhgjBkzxvb6sWPHjAEDBhj+/v5GjRo1jPj4eGPr1q2lnh67c+dO45577jF8fHwMd3d3o2XLlsaXX35Z6j5f6PTp08bQoUMNPz8/w9PT00hISDD2799f4lRKwzCM7Oxs4/HHHzfCwsIMV1dXIzg42OjYsaMxa9asv9xOeHi40a1bt4v2Of9evfLKK6W+vmLFCqNNmzZG9erVDS8vLyMhIcHYvHmzXZ/z35/Nmzcb99xzj1GzZk3D19fXeOKJJ4zTp0/b9V28eLERHR1tuLu7GxEREcbLL79szJ4925Bk7N69u0Tty5YtM6Kjow2LxWI0bNjQmD9/vt36HD1N1TAM45tvvjGaN29uuLm5GXXr1jXS0tJK/LdQkZqtVqsxYcIEIyQkxKhevbrRoUMH49dffy31+3PixAkjOTnZqFevnuHm5mb4+/sbrVu3Nl599VWjqKio1M8C1xYnw7hgvBTANSEuLk7PPvusOnXqVNmlAPgbYg4GcI1KSEiwu1w6AFxJzMEArjEfffSRCgoKNH/+fAUGBlZ2OQD+phjBAK4xv/32m5544gkdOHBATz/9dGWXA+BvqlIDxpo1a5SQkKDatWvLyclJixYt+stlVq9erZtuusl2d74L7yYJ/N298MILOnPmjHbv3m13czYAuJIqNWAUFBSoadOmJc4tL8vu3bvVrVs33Xbbbdq4caOGDx+uRx55pNRzrQEAQOW5as4icXJy0meffaZevXqV2WfEiBFasmSJ3UV57rvvPh0/flzp6elXoEoAAFAeVWqSZ2ZmZolLz8bHx5d6N7/zCgsLbVdmlP64Rv7Ro0fl5+dn+qWgAQC4lhmGoRMnTqh27doXveCeVMUCRlZWloKCguzagoKClJ+fr9OnT5d6M6OUlBRNmDDhSpUIAMA1b//+/apTp85F+1SpgOGI5ORkJSUl2Z7n5eXpuuuu0/79++Xl5VWJlTlm9/+/LTcAoGqLvMgNDK9W+fn5CgsLU82aNf+yb5UKGMHBwcrOzrZry87OlpeXV5m3YrZYLLJYLCXavby8qmTAKM+HCgC4+lXF36DzyjPFoEpdB6NVq1bKyMiwa/v666/VqlWrSqoIAACUplIDxsmTJ7Vx40bbnR53796tjRs32m4vnJycrMTERFv/xx57TLt27dKzzz6rrVu36s0339Qnn3yiJ598sjLKBwAAZajUgLFu3To1a9ZMzZo1kyQlJSWpWbNmGjt2rCTp0KFDtrAhSZGRkVqyZIm+/vprNW3aVFOmTNH//d//KT4+vlLqBwAApbtqroNxpeTn58vb21t5eXlV8vjXrp07K7sEAIAJ6kZFVXYJFVaR39AqNQcDAABUDQQMAABgOgIGAAAwHQEDAACYjoABAABMR8AAAACmI2AAAADTETAAAIDpCBgAAMB0BAwAAGA6AgYAADAdAQMAAJiOgAEAAExHwAAAAKYjYAAAANMRMAAAgOkIGAAAwHQEDAAAYDoCBgAAMB0BAwAAmI6AAQAATEfAAAAApiNgAAAA0xEwAACA6QgYAADAdAQMAABgOgIGAAAwHQEDAACYjoABAABMR8AAAACmI2AAAADTETAAAIDpCBgAAMB0BAwAAGA6AgYAADAdAQMAAJiOgAEAAExHwAAAAKYjYAAAANMRMAAAgOkIGAAAwHQEDAAAYDoCBgAAMB0BAwAAmI6AAQAATEfAAAAApiNgAAAA0xEwAACA6QgYAADAdAQMAABgukoPGDNmzFBERITc3d0VGxurH3744aL9U1NT1aBBA1WvXl1hYWF68skndebMmStULQAAKI9KDRjz5s1TUlKSxo0bpw0bNqhp06aKj4/X4cOHS+3/4YcfauTIkRo3bpy2bNmid955R/PmzdOoUaOucOUAAOBiKjVgTJ06VY8++qgGDBigxo0bKy0tTR4eHpo9e3ap/deuXas2bdro/vvvV0REhDp16qS+ffv+5agHAAC4siotYBQVFWn9+vWKi4v7XzHOzoqLi1NmZmapy7Ru3Vrr16+3BYpdu3Zp6dKl6tq1a5nbKSwsVH5+vt0DAABcXtUqa8O5ubmyWq0KCgqyaw8KCtLWrVtLXeb+++9Xbm6u2rZtK8MwdO7cOT322GMXPUSSkpKiCRMmmFo7AAC4uEqf5FkRq1ev1osvvqg333xTGzZs0MKFC7VkyRI9//zzZS6TnJysvLw822P//v1XsGIAAP6eKm0Ew9/fXy4uLsrOzrZrz87OVnBwcKnLjBkzRg899JAeeeQRSVKTJk1UUFCgQYMG6bnnnpOzc8m8ZLFYZLFYzN8BAABQpkobwXBzc1Pz5s2VkZFhaysuLlZGRoZatWpV6jKnTp0qESJcXFwkSYZhXL5iAQBAhVTaCIYkJSUlqV+/fmrRooVatmyp1NRUFRQUaMCAAZKkxMREhYaGKiUlRZKUkJCgqVOnqlmzZoqNjdWOHTs0ZswYJSQk2IIGAACofJUaMPr06aOcnByNHTtWWVlZiomJUXp6um3i5759++xGLEaPHi0nJyeNHj1aBw4cUEBAgBISEjRp0qTK2gUAAFAKJ+NvdmwhPz9f3t7eysvLk5eXV2WXU2G7du6s7BIAACaoGxVV2SVUWEV+Q6vUWSQAAKBqIGAAAADTETAAAIDpCBgAAMB0BAwAAGA6AgYAADAdAQMAAJiOgAEAAExHwAAAAKYjYAAAANMRMAAAgOkIGAAAwHQEDAAAYDoCBgAAMB0BAwAAmI6AAQAATEfAAAAApiNgAAAA0xEwAACA6QgYAADAdAQMAABgOgIGAAAwHQEDAACYjoABAABMR8AAAACmI2AAAADTETAAAIDpCBgAAMB0BAwAAGA6AgYAADAdAQMAAJiOgAEAAExHwAAAAKYjYAAAANMRMAAAgOkIGAAAwHQEDAAAYDoCBgAAMB0BAwAAmI6AAQAATEfAAAAApiNgAAAA011SwNixY4eWLVum06dPS5IMwzClKAAAULU5FDCOHDmiuLg41a9fX127dtWhQ4ckSQMHDtRTTz1laoEAAKDqcShgPPnkk6pWrZr27dsnDw8PW3ufPn2Unp5uWnEAAKBqqubIQsuXL9eyZctUp04du/brr79ee/fuNaUwAABQdTk0glFQUGA3cnHe0aNHZbFYLrkoAABQtTkUMNq1a6e5c+fanjs5Oam4uFiTJ0/WbbfdZlpxAACganLoEMnkyZPVsWNHrVu3TkVFRXr22Wf122+/6ejRo/ruu+/MrhEAAFQxDo1g3Hjjjfr999/Vtm1b9ezZUwUFBbrrrrv0008/KSoqyuwaAQBAFePQCIYkeXt767nnnjOzFgAAcI0od8D45Zdfyr3S6OjocvedMWOGXnnlFWVlZalp06aaPn26WrZsWWb/48eP67nnntPChQt19OhRhYeHKzU1VV27di33NgEAwOVV7oARExMjJycnGYYhJycnW/v5q3f+uc1qtZZrnfPmzVNSUpLS0tIUGxur1NRUxcfHa9u2bQoMDCzRv6ioSHfccYcCAwO1YMEChYaGau/evfLx8SnvbgAAgCug3AFj9+7dtr9/+uknPf3003rmmWfUqlUrSVJmZqamTJmiyZMnl3vjU6dO1aOPPqoBAwZIktLS0rRkyRLNnj1bI0eOLNF/9uzZOnr0qNauXStXV1dJUkRERLm3BwAAroxyB4zw8HDb371799a0adPsDktER0crLCxMY8aMUa9evf5yfUVFRVq/fr2Sk5Ntbc7OzoqLi1NmZmapyyxevFitWrXS448/rs8//1wBAQG6//77NWLECLm4uJS6TGFhoQoLC23P8/Pz/7I2AABwaRw6i2TTpk2KjIws0R4ZGanNmzeXax25ubmyWq0KCgqyaw8KClJWVlapy+zatUsLFiyQ1WrV0qVLNWbMGE2ZMkUvvPBCmdtJSUmRt7e37REWFlau+gAAgOMcChiNGjVSSkqKioqKbG1FRUVKSUlRo0aNTCvuQsXFxQoMDNSsWbPUvHlz9enTR88995zS0tLKXCY5OVl5eXm2x/79+y9bfQAA4A8OnaaalpamhIQE1alTx3bGyC+//CInJyd98cUX5VqHv7+/XFxclJ2dbdeenZ2t4ODgUpcJCQmRq6ur3eGQRo0aKSsrS0VFRXJzcyuxjMVi4fLlAABcYQ6NYLRs2VK7du3SCy+8oOjoaEVHR2vSpEnatWvXRU8x/TM3Nzc1b95cGRkZtrbi4mJlZGTYJo5eqE2bNtqxY4eKi4ttbb///rtCQkJKDRcAAKByOHyhLU9PTw0aNOiSNp6UlKR+/fqpRYsWatmypVJTU1VQUGA7qyQxMVGhoaFKSUmRJP3zn//UG2+8oWHDhmnIkCHavn27XnzxRQ0dOvSS6gAAAOZyOGBI0ubNm7Vv3z67uRiS1KNHj3It36dPH+Xk5Gjs2LHKyspSTEyM0tPTbRM/9+3bJ2fn/w2yhIWFadmyZXryyScVHR2t0NBQDRs2TCNGjLiU3QAAACZzMs5fKasCdu3apTvvvFObNm2yXXxL+t/Ftsp7oa3KkJ+fL29vb+Xl5cnLy6uyy6mwXTt3VnYJAAAT1K2C9+6qyG+oQ3Mwhg0bpsjISB0+fFgeHh767bfftGbNGrVo0UKrV692ZJUAAOAa4tAhkszMTK1cuVL+/v5ydnaWs7Oz2rZtq5SUFA0dOlQ//fST2XUCAIAqxKERDKvVqpo1a0r643TTgwcPSvrjap/btm0zrzoAAFAlOTSCceONN+rnn39WZGSkYmNjNXnyZLm5uWnWrFmqW7eu2TUCAIAqxqGAMXr0aBUUFEiSJk6cqO7du6tdu3by8/PTvHnzTC0QAABUPQ4FjPj4eNvf9erV09atW3X06FH5+vra3bYdAAD8PV3SdTD+rFatWmatCgAAVHHlDhh33XVXuVe6cOFCh4oBAADXhnKfRfLnW557eXkpIyND69ats72+fv16ZWRkyNvb+7IUCgAAqo5yj2DMmTPH9veIESN07733Ki0tzXZnU6vVqsGDB1fJq2MCAABzOXSp8ICAAH377bdq0KCBXfu2bdvUunVrHTlyxLQCzcalwgEAVwMuFV6Kc+fOaevWrSXat27dancrdQAA8Pfk0FkkAwYM0MCBA7Vz5061bNlSkvT999/rpZdest1qHQAA/H05FDBeffVVBQcHa8qUKTp06JAkKSQkRM8884yeeuopUwsEAABVj0NzMP4sPz9fkqrMfAbmYAAArgbX+hyMS77QVlX8kQYAAJdXuQPGTTfdpIyMDPn6+qpZs2YXvST4hg0bTCkOAABUTeUOGD179pTFYpEk9erV63LVAwAArgGXPAejqmEOBgDganCtz8Fw6DoYAAAAF1PuQyQVuRX70aNHHS4IAABUfeUOGKmpqZexDAAAcC0pd8Do16/f5awDAABcQ8odMPLz820TOs5fXKssVXHyJAAAME+F5mAcOnRIgYGB8vHxKXU+hmEYcnJyktVqNbVIAABQtZQ7YKxcuVK1atWSJK1ateqyFQQAAKq+cgeM9u3bl/o3AADAhRy+F8mxY8f0zjvvaMuWLZKkxo0ba8CAAbZRDgAA8Pfl0IW21qxZo4iICE2bNk3Hjh3TsWPHNG3aNEVGRmrNmjVm1wgAAKoYh0YwHn/8cfXp00czZ86Ui4uLJMlqtWrw4MF6/PHHtWnTJlOLBAAAVYtDIxg7duzQU089ZQsXkuTi4qKkpCTt2LHDtOIAAEDV5FDAuOmmm2xzL/5sy5Ytatq06SUXBQAAqrZyHyL55ZdfbH8PHTpUw4YN044dO3TLLbdIkv7zn/9oxowZeumll8yvEgAAVCnlvl27s7OznJyc9Ffdr/YLbXG7dgDA1eBav117uUcwdu/efcmFAQCAv4dyB4zw8PDLWQcAALiGOHyhLUnavHmz9u3bp6KiIrv2Hj16XFJRAACganMoYOzatUt33nmnNm3aZDcv4/wN0K7mORgAAODyc+g01WHDhikyMlKHDx+Wh4eHfvvtN61Zs0YtWrTQ6tWrTS4RAABUNQ6NYGRmZmrlypXy9/eXs7OznJ2d1bZtW6WkpGjo0KH66aefzK4TAABUIQ6NYFitVtWsWVOS5O/vr4MHD0r6YyLotm3bzKsOAABUSQ6NYNx44436+eefFRkZqdjYWE2ePFlubm6aNWuW6tata3aNAACginEoYIwePVoFBQWSpIkTJ6p79+5q166d/Pz8NG/ePFMLBAAAVY9DASM+Pt72d7169bR161YdPXpUvr6+tjNJAADA39clXQdDkvbv3y9JCgsLu+RiAADAtcGhSZ7nzp3TmDFj5O3trYiICEVERMjb21ujR4/W2bNnza4RAABUMQ6NYAwZMkQLFy7U5MmT1apVK0l/nLo6fvx4HTlyRDNnzjS1SAAAULU4FDA+/PBDffzxx+rSpYutLTo6WmFhYerbty8BAwCAvzmHDpFYLBZFRESUaI+MjJSbm9ul1gQAAKo4hwLGE088oeeff16FhYW2tsLCQk2aNElPPPGEacUBAICqqdyHSO666y675ytWrFCdOnXUtGlTSdLPP/+soqIidezY0dwKAQBAlVPuEQxvb2+7x913363u3bsrLCxMYWFh6t69u+666y55e3tXuIgZM2YoIiJC7u7uio2N1Q8//FCu5T7++GM5OTmpV69eFd4mAAC4fMo9gjFnzpzLUsC8efOUlJSktLQ0xcbGKjU1VfHx8dq2bZsCAwPLXG7Pnj16+umn1a5du8tSFwAAcJxDczDOy8nJ0bfffqtvv/1WOTk5Dq1j6tSpevTRRzVgwAA1btxYaWlp8vDw0OzZs8tcxmq16oEHHtCECRO49wkAAFchhwJGQUGBHn74YYWEhOjWW2/Vrbfeqtq1a2vgwIE6depUuddTVFSk9evXKy4u7n8FOTsrLi5OmZmZZS43ceJEBQYGauDAgX+5jcLCQuXn59s9AADA5eVQwEhKStI333yjL774QsePH9fx48f1+eef65tvvtFTTz1V7vXk5ubKarUqKCjIrj0oKEhZWVmlLvPtt9/qnXfe0dtvv12ubaSkpNjNHeGS5gAAXH4OBYxPP/1U77zzjrp06SIvLy95eXmpa9euevvtt7VgwQKza7Q5ceKEHnroIb399tvy9/cv1zLJycnKy8uzPc7fOwUAAFw+Dl3J89SpUyVGHSQpMDCwQodI/P395eLiouzsbLv27OxsBQcHl+i/c+dO7dmzRwkJCba24uJiSVK1atW0bds2RUVF2S1jsVhksVjKXRMAALh0Do1gtGrVSuPGjdOZM2dsbadPn9aECRNs9yYpDzc3NzVv3lwZGRm2tuLiYmVkZJS6noYNG2rTpk3auHGj7dGjRw/ddttt2rhxI4c/AAC4Sjg0gpGamqrOnTuXuNCWu7u7li1bVqF1JSUlqV+/fmrRooVatmyp1NRUFRQUaMCAAZKkxMREhYaGKiUlRe7u7rrxxhvtlvfx8ZGkEu0AAKDyOBQwmjRpou3bt+uDDz7Q1q1bJUl9+/bVAw88oOrVq1doXX369FFOTo7Gjh2rrKwsxcTEKD093XYIZt++fXJ2vqSzaQEAwBXmZBiGUZEFzp49q4YNG+rLL79Uo0aNLlddl01+fr68vb2Vl5cnLy+vyi6nwnbt3FnZJQAATFD3gjmDVUFFfkMrPDTg6upqN/cCAADgQg4de3j88cf18ssv69y5c2bXAwAArgEOzcH48ccflZGRoeXLl6tJkyby9PS0e33hwoWmFAcAAKomhwKGj4+P7r77brNrAQAA14gKBYzi4mK98sor+v3331VUVKTbb79d48ePr/CZIwAA4NpWoTkYkyZN0qhRo1SjRg2FhoZq2rRpevzxxy9XbQAAoIqqUMCYO3eu3nzzTS1btkyLFi3SF198oQ8++MB2uW4AAACpggFj37596tq1q+15XFycnJycdPDgQdMLAwAAVVeFAsa5c+fk7u5u1+bq6qqzZ8+aWhQAAKjaKjTJ0zAM9e/f3+7upGfOnNFjjz1md6oqp6kCAPD3VqGA0a9fvxJtDz74oGnFAACAa0OFAsacOXMuVx0AAOAawm1KAQCA6QgYAADAdAQMAABgOgIGAAAwHQEDAACYjoABAABMR8AAAACmI2AAAADTETAAAIDpCBgAAMB0BAwAAGA6AgYAADAdAQMAAJiOgAEAAExHwAAAAKYjYAAAANMRMAAAgOkIGAAAwHQEDAAAYDoCBgAAMB0BAwAAmI6AAQAATEfAAAAApiNgAAAA0xEwAACA6QgYAADAdAQMAABgOgIGAAAwHQEDAACYjoABAABMR8AAAACmI2AAAADTETAAAIDpCBgAAMB0BAwAAGA6AgYAADAdAQMAAJiOgAEAAEx3VQSMGTNmKCIiQu7u7oqNjdUPP/xQZt+3335b7dq1k6+vr3x9fRUXF3fR/gAA4Mqr9IAxb948JSUlady4cdqwYYOaNm2q+Ph4HT58uNT+q1evVt++fbVq1SplZmYqLCxMnTp10oEDB65w5QAAoCxOhmEYlVlAbGysbr75Zr3xxhuSpOLiYoWFhWnIkCEaOXLkXy5vtVrl6+urN954Q4mJiX/ZPz8/X97e3srLy5OXl9cl13+l7dq5s7JLAACYoG5UVGWXUGEV+Q2t1BGMoqIirV+/XnFxcbY2Z2dnxcXFKTMzs1zrOHXqlM6ePatatWqV+nphYaHy8/PtHgAA4PKq1ICRm5srq9WqoKAgu/agoCBlZWWVax0jRoxQ7dq17ULKn6WkpMjb29v2CAsLu+S6AQDAxVX6HIxL8dJLL+njjz/WZ599Jnd391L7JCcnKy8vz/bYv3//Fa4SAIC/n2qVuXF/f3+5uLgoOzvbrj07O1vBwcEXXfbVV1/VSy+9pBUrVig6OrrMfhaLRRaLxZR6AQBA+VTqCIabm5uaN2+ujIwMW1txcbEyMjLUqlWrMpebPHmynn/+eaWnp6tFixZXolQAAFABlTqCIUlJSUnq16+fWrRooZYtWyo1NVUFBQUaMGCAJCkxMVGhoaFKSUmRJL388ssaO3asPvzwQ0VERNjmatSoUUM1atSotP0AAAD/U+kBo0+fPsrJydHYsWOVlZWlmJgYpaen2yZ+7tu3T87O/xtomTlzpoqKinTPPffYrWfcuHEaP378lSwdAACUodKvg3GlcR0MAMDVgOtgAAAAVBABAwAAmI6AAQAATEfAAAAApiNgAAAA0xEwAACA6QgYAADAdAQMAABgOgIGAAAwHQEDAACYjoABAABMR8AAAACmI2AAAADTETAAAIDpCBgAAMB0BAwAAGA6AgYAADAdAQMAAJiOgAEAAExHwAAAAKYjYAAAANMRMAAAgOkIGAAAwHQEDAAAYDoCBgAAMB0BAwAAmI6AAQAATEfAAAAApiNgAAAA0xEwAACA6QgYAADAdAQMAABgOgIGAAAwHQEDAACYjoABAABMR8AAAACmI2AAAADTETAAAIDpCBgAAMB0BAwAAGA6AgYAADAdAQMAAJiOgAEAAExHwAAAAKYjYAAAANMRMAAAgOkIGAAAwHQEDAAAYDoCBgAAMB0BAwAAmI6AAQAATHdVBIwZM2YoIiJC7u7uio2N1Q8//HDR/vPnz1fDhg3l7u6uJk2aaOnSpVeoUgAAUB6VHjDmzZunpKQkjRs3Ths2bFDTpk0VHx+vw4cPl9p/7dq16tu3rwYOHKiffvpJvXr1Uq9evfTrr79e4coBAEBZnAzDMCqzgNjYWN1888164403JEnFxcUKCwvTkCFDNHLkyBL9+/Tpo4KCAn355Ze2tltuuUUxMTFKS0v7y+3l5+fL29tbeXl58vLyMm9HrpBdO3dWdgkAABPUjYqq7BIqrCK/odWuUE2lKioq0vr165WcnGxrc3Z2VlxcnDIzM0tdJjMzU0lJSXZt8fHxWrRoUan9CwsLVVhYaHuel5cn6Y83qSo6ceJEZZcAADBBVfwdOl9zecYmKjVg5Obmymq1KigoyK49KChIW7duLXWZrKysUvtnZWWV2j8lJUUTJkwo0R4WFuZg1QAA/L2dOHFC3t7eF+1TqQHjSkhOTrYb8SguLtbRo0fl5+cnJyenSqwMQGny8/MVFham/fv3V8nDmMC1zDAMnThxQrVr1/7LvpUaMPz9/eXi4qLs7Gy79uzsbAUHB5e6THBwcIX6WywWWSwWuzYfHx/HiwZwRXh5eREwgKvQX41cnFepZ5G4ubmpefPmysjIsLUVFxcrIyNDrVq1KnWZVq1a2fWXpK+//rrM/gAA4Mqr9EMkSUlJ6tevn1q0aKGWLVsqNTVVBQUFGjBggCQpMTFRoaGhSklJkSQNGzZM7du315QpU9StWzd9/PHHWrdunWbNmlWZuwEAAP6k0gNGnz59lJOTo7FjxyorK0sxMTFKT0+3TeTct2+fnJ3/N9DSunVrffjhhxo9erRGjRql66+/XosWLdKNN95YWbsAwEQWi0Xjxo0rcWgTQNVS6dfBAAAA155Kv5InAAC49hAwAACA6QgYAKqU7OxsTZw4UceOHavsUgBcBAEDwFWnf//+6tWrV4n24uJiPfjgg3Jzc5Ovr6+p23z33Xe5Rg5gIgIGgDLl5OTon//8p6677jpZLBYFBwcrPj5e3333XaXU89JLLykqKqrUGyECuLpU+mmqAK5ed999t4qKivTee++pbt26ys7OVkZGho4cOVIp9YwaNapStgug4hjBAFCq48eP69///rdefvll3XbbbQoPD1fLli2VnJysHj16SJKmTp2qJk2ayNPTU2FhYRo8eLBOnjxpW8f48eMVExNjt97U1FRFRETYnlutViUlJcnHx0d+fn569tlnS9ypMT09XW3btrX16d69u3bu3Gl7vXXr1hoxYoTdMjk5OXJ1ddWaNWsk/XFn5aefflqhoaHy9PRUbGysVq9ebcI7BaA0BAwApapRo4Zq1KihRYsWqbCwsNQ+zs7OmjZtmn777Te99957WrlypZ599tkKbWfKlCl69913NXv2bH377bc6evSoPvvsM7s+BQUFSkpK0rp167Ry5Uq5urrqzjvvVHFxsSTpgQce0Mcff2wXTObNm6fatWurXbt2kqQnnnhCmZmZ+vjjj/XLL7+od+/e6ty5s7Zv316hegGUkwEAZViwYIHh6+truLu7G61btzaSk5ONn3/+ucz+8+fPN/z8/GzPx40bZzRt2tSuz2uvvWaEh4fbnoeEhBiTJ0+2PT979qxRp04do2fPnmVuJzc315BkbNq0yTAMwzh8+LBRrVo1Y82aNbY+rVq1MkaMGGEYhmHs3bvXcHFxMQ4cOGC3no4dOxrJycmGYRjGnDlzDG9v7zK3CaBiGMEAUKa7775bBw8e1OLFi9W5c2etXr1aN910k959911J0ooVK9SxY0eFhoaqZs2aeuihh3TkyBGdOnWqXOvPy8vToUOHFBsba2urVq2aWrRoYddvy5Yt6tGjhwIDA+Xs7Cx/f39Jf9xKQJICAgLUqVMnffDBB5Kk3bt3KzMzUw888IAkadOmTbJarapfv75tZKZGjRr65ptv7A61ADAPAQPARbm7u+uOO+7QmDFjtHbtWvXv31/jxo3Tnj171L17d0VHR+vTTz/V+vXrNWPGDElSUVGRpD8OoRgXzKc4e/ZshWvo0aOHvL299f3336uwsNAWYM5vR/rjMMmCBQt09uxZffjhh2rSpImaNGkiSTp58qRcXFy0fv16bdy40fbYsmWLXn/9dYfeFwAXR8AAUCGNGzdWQUGB1q9fr+LiYk2ZMkW33HKL6tevr4MHD9r1DQgIUFZWll3I2Lhxo+1vb29vhYSE6Pvvv7e1nTt3TuvXr7c9z83N1Y4dO/TYY48pMjJSrq6uWrt2bYm6evbsqTNnzig9PV0ffvihbfRCkpo1ayar1arDhw+rXr16do/g4GAz3hYAF+A0VQClOnLkiHr37q2HH35Y0dHRqlmzptatW6fJkyerZ8+eqlevns6ePavp06crISFB3333ndLS0uzW0aFDB+Xk5Gjy5Mm65557lJ6erq+++kpeXl62PsOGDdNLL72k66+/Xg0bNtTUqVN1/Phx2+u1atWSv7+/3njjDQUFBWnPnj0lzhiRJE9PT/Xq1UtjxozRli1b1LdvX9tr9evX1wMPPKDExERNmTJFzZo1U05OjjIyMhQdHa1u3bqZ/wYCf3eVPQkEwNXpzJkzxsiRI42bbrrJ8Pb2Njw8PIwGDRoYo0ePNk6dOmUYhmFMnTrVCAkJMapXr27Ex8cbc+fONSQZx44ds61n5syZRlhYmOHp6WkkJiYakyZNspvkefbsWWPYsGGGl5eX4ePjYyQlJRmJiYl2kzxXrlxpNG7c2LBYLEZ0dLSxevVqQ5Lx2Wef2dW8dOlSQ5Jx6623ltifoqIiY+zYsUZERITh6upqhISEGHfeeafxyy+/GIbBJE/AbNyuHQAAmI45GAAAwHQEDAAAYDoCBgAAMB0BAwAAmI6AAQAATEfAAAAApiNgAAAA0xEwAACA6QgYAKq0Dh06aPjw4ZVdBoALEDAAOKR///5ycnIq8ejcufNfLhsREaHU1NTLXySASsPNzgA4rHPnzpozZ45dm8ViqaRqAFxNGMEA4DCLxaLg4GC7h6+vrwzD0Pjx43XdddfJYrGodu3aGjp0qKQ/Dmns3btXTz75pG3UQ/rj7q19+/ZVaGioPDw81KRJE3300Ud22ysoKFBiYqJq1KihkJAQTZkypURNx44dU2Jionx9feXh4aEuXbpo+/btl//NAGCHgAHAdJ9++qlee+01vfXWW9q+fbsWLVqkJk2aSJIWLlyoOnXqaOLEiTp06JAOHTokSTpz5oyaN2+uJUuW6Ndff9WgQYP00EMP6YcffrCt95lnntE333yjzz//XMuXL9fq1au1YcMGu233799f69at0+LFi5WZmSnDMNS1a1edPXv2yr0BADhEAsBxX375pWrUqGHXNmrUKLm7uys4OFhxcXFydXXVddddp5YtW0qSatWqJRcXF9WsWVPBwcG25UJDQ/X000/bng8ZMkTLli3TJ598opYtW+rkyZN655139P7776tjx46SpPfee0916tSxLbN9+3YtXrxY3333nVq3bi1J+uCDDxQWFqZFixapd+/el+29AGCPgAHAYbfddptmzpxp11arVi0VFBQoNTVVdevWVefOndW1a1clJCSoWrWy/8mxWq168cUX9cknn+jAgQMqKipSYWGhPDw8JEk7d+5UUVGRYmNj7bbVoEED2/MtW7aoWrVqdn38/PzUoEEDbdmyxazdBlAOBAwADvP09FS9evVKtNeqVUvbtm3TihUr9PXXX2vw4MF65ZVX9M0338jV1bXUdb3yyit6/fXXlZqaqiZNmsjT01PDhw9XUVHR5d4NAJcBczAAXBbVq1dXQkKCpk2bptWrVyszM1ObNm2SJLm5uclqtdr1/+6779SzZ089+OCDatq0qerWravff//d9npUVJRcXV31/fff29qOHTtm16dRo0Y6d+6cXZ8jR45o27Ztaty48eXaVQClYAQDgMMKCwuVlZVl11atWjV9+eWXslqtio2NlYeHh95//31Vr15d4eHhkv64DsaaNWt03333yWKxyN/fX9dff70WLFigtWvXytfXV1OnTlV2drYtGNSoUUMDBw7UM888Iz8/PwUGBuq5556Ts/P//j/p+uuvV8+ePfXoo4/qrbfeUs2aNTVy5EiFhoaqZ8+eV+6NAcAIBgDHpaenKyQkxO7Rtm1b+fj46O2331abNm0UHR2tFStW6IsvvpCfn58kaeLEidqzZ4+ioqIUEBAgSRo9erRuuukmxcfHq0OHDgoODlavXr3stvfKK6+oXbt2SkhIUFxcnNq2bavmzZvb9ZkzZ46aN2+u7t27q1WrVjIMQ0uXLi3z0AyAy8PJMAyjsosAAADXFkYwAACA6QgYAADAdAQMAABgOgIGAAAwHQEDAACYjoABAABMR8AAAACmI2AAAADTETAAAIDpCBgAAMB0BAwAAGC6/wdg2/8W3sgCLQAAAABJRU5ErkJggg==\n"
                },
                "metadata": {}
              }
            ]
          }
        },
        "de4545d6f57d4182bea98b60ece6c378": {
          "model_module": "@jupyter-widgets/base",
          "model_name": "LayoutModel",
          "model_module_version": "1.2.0",
          "state": {
            "_model_module": "@jupyter-widgets/base",
            "_model_module_version": "1.2.0",
            "_model_name": "LayoutModel",
            "_view_count": null,
            "_view_module": "@jupyter-widgets/base",
            "_view_module_version": "1.2.0",
            "_view_name": "LayoutView",
            "align_content": null,
            "align_items": null,
            "align_self": null,
            "border": null,
            "bottom": null,
            "display": null,
            "flex": null,
            "flex_flow": null,
            "grid_area": null,
            "grid_auto_columns": null,
            "grid_auto_flow": null,
            "grid_auto_rows": null,
            "grid_column": null,
            "grid_gap": null,
            "grid_row": null,
            "grid_template_areas": null,
            "grid_template_columns": null,
            "grid_template_rows": null,
            "height": null,
            "justify_content": null,
            "justify_items": null,
            "left": null,
            "margin": null,
            "max_height": null,
            "max_width": null,
            "min_height": null,
            "min_width": null,
            "object_fit": null,
            "object_position": null,
            "order": null,
            "overflow": null,
            "overflow_x": null,
            "overflow_y": null,
            "padding": null,
            "right": null,
            "top": null,
            "visibility": null,
            "width": null
          }
        },
        "80cc9d5d0e2f4bf1a1e3b39364c4b6ff": {
          "model_module": "@jupyter-widgets/base",
          "model_name": "LayoutModel",
          "model_module_version": "1.2.0",
          "state": {
            "_model_module": "@jupyter-widgets/base",
            "_model_module_version": "1.2.0",
            "_model_name": "LayoutModel",
            "_view_count": null,
            "_view_module": "@jupyter-widgets/base",
            "_view_module_version": "1.2.0",
            "_view_name": "LayoutView",
            "align_content": null,
            "align_items": null,
            "align_self": null,
            "border": null,
            "bottom": null,
            "display": null,
            "flex": null,
            "flex_flow": null,
            "grid_area": null,
            "grid_auto_columns": null,
            "grid_auto_flow": null,
            "grid_auto_rows": null,
            "grid_column": null,
            "grid_gap": null,
            "grid_row": null,
            "grid_template_areas": null,
            "grid_template_columns": null,
            "grid_template_rows": null,
            "height": null,
            "justify_content": null,
            "justify_items": null,
            "left": null,
            "margin": null,
            "max_height": null,
            "max_width": null,
            "min_height": null,
            "min_width": null,
            "object_fit": null,
            "object_position": null,
            "order": null,
            "overflow": null,
            "overflow_x": null,
            "overflow_y": null,
            "padding": null,
            "right": null,
            "top": null,
            "visibility": null,
            "width": null
          }
        },
        "16e69fe622de483d83138200d2d03700": {
          "model_module": "@jupyter-widgets/controls",
          "model_name": "ToggleButtonsStyleModel",
          "model_module_version": "1.5.0",
          "state": {
            "_model_module": "@jupyter-widgets/controls",
            "_model_module_version": "1.5.0",
            "_model_name": "ToggleButtonsStyleModel",
            "_view_count": null,
            "_view_module": "@jupyter-widgets/base",
            "_view_module_version": "1.2.0",
            "_view_name": "StyleView",
            "button_width": "",
            "description_width": "",
            "font_weight": ""
          }
        },
        "5e065beba4544d83838e421560164d6e": {
          "model_module": "@jupyter-widgets/base",
          "model_name": "LayoutModel",
          "model_module_version": "1.2.0",
          "state": {
            "_model_module": "@jupyter-widgets/base",
            "_model_module_version": "1.2.0",
            "_model_name": "LayoutModel",
            "_view_count": null,
            "_view_module": "@jupyter-widgets/base",
            "_view_module_version": "1.2.0",
            "_view_name": "LayoutView",
            "align_content": null,
            "align_items": null,
            "align_self": null,
            "border": null,
            "bottom": null,
            "display": null,
            "flex": null,
            "flex_flow": null,
            "grid_area": null,
            "grid_auto_columns": null,
            "grid_auto_flow": null,
            "grid_auto_rows": null,
            "grid_column": null,
            "grid_gap": null,
            "grid_row": null,
            "grid_template_areas": null,
            "grid_template_columns": null,
            "grid_template_rows": null,
            "height": null,
            "justify_content": null,
            "justify_items": null,
            "left": null,
            "margin": null,
            "max_height": null,
            "max_width": null,
            "min_height": null,
            "min_width": null,
            "object_fit": null,
            "object_position": null,
            "order": null,
            "overflow": null,
            "overflow_x": null,
            "overflow_y": null,
            "padding": null,
            "right": null,
            "top": null,
            "visibility": null,
            "width": null
          }
        },
        "9f80685577c44e2a8058a8ffde2c8213": {
          "model_module": "@jupyter-widgets/controls",
          "model_name": "ToggleButtonsStyleModel",
          "model_module_version": "1.5.0",
          "state": {
            "_model_module": "@jupyter-widgets/controls",
            "_model_module_version": "1.5.0",
            "_model_name": "ToggleButtonsStyleModel",
            "_view_count": null,
            "_view_module": "@jupyter-widgets/base",
            "_view_module_version": "1.2.0",
            "_view_name": "StyleView",
            "button_width": "",
            "description_width": "",
            "font_weight": ""
          }
        },
        "e21497e814084d82a31278b617d0cad4": {
          "model_module": "@jupyter-widgets/base",
          "model_name": "LayoutModel",
          "model_module_version": "1.2.0",
          "state": {
            "_model_module": "@jupyter-widgets/base",
            "_model_module_version": "1.2.0",
            "_model_name": "LayoutModel",
            "_view_count": null,
            "_view_module": "@jupyter-widgets/base",
            "_view_module_version": "1.2.0",
            "_view_name": "LayoutView",
            "align_content": null,
            "align_items": null,
            "align_self": null,
            "border": null,
            "bottom": null,
            "display": null,
            "flex": null,
            "flex_flow": null,
            "grid_area": null,
            "grid_auto_columns": null,
            "grid_auto_flow": null,
            "grid_auto_rows": null,
            "grid_column": null,
            "grid_gap": null,
            "grid_row": null,
            "grid_template_areas": null,
            "grid_template_columns": null,
            "grid_template_rows": null,
            "height": null,
            "justify_content": null,
            "justify_items": null,
            "left": null,
            "margin": null,
            "max_height": null,
            "max_width": null,
            "min_height": null,
            "min_width": null,
            "object_fit": null,
            "object_position": null,
            "order": null,
            "overflow": null,
            "overflow_x": null,
            "overflow_y": null,
            "padding": null,
            "right": null,
            "top": null,
            "visibility": null,
            "width": null
          }
        },
        "09a5f1f32d4c49ebb37df2e75fd516ed": {
          "model_module": "@jupyter-widgets/controls",
          "model_name": "ToggleButtonsStyleModel",
          "model_module_version": "1.5.0",
          "state": {
            "_model_module": "@jupyter-widgets/controls",
            "_model_module_version": "1.5.0",
            "_model_name": "ToggleButtonsStyleModel",
            "_view_count": null,
            "_view_module": "@jupyter-widgets/base",
            "_view_module_version": "1.2.0",
            "_view_name": "StyleView",
            "button_width": "",
            "description_width": "",
            "font_weight": ""
          }
        },
        "9535fc1251324aaf953ffc125775a6a9": {
          "model_module": "@jupyter-widgets/base",
          "model_name": "LayoutModel",
          "model_module_version": "1.2.0",
          "state": {
            "_model_module": "@jupyter-widgets/base",
            "_model_module_version": "1.2.0",
            "_model_name": "LayoutModel",
            "_view_count": null,
            "_view_module": "@jupyter-widgets/base",
            "_view_module_version": "1.2.0",
            "_view_name": "LayoutView",
            "align_content": null,
            "align_items": null,
            "align_self": null,
            "border": null,
            "bottom": null,
            "display": null,
            "flex": null,
            "flex_flow": null,
            "grid_area": null,
            "grid_auto_columns": null,
            "grid_auto_flow": null,
            "grid_auto_rows": null,
            "grid_column": null,
            "grid_gap": null,
            "grid_row": null,
            "grid_template_areas": null,
            "grid_template_columns": null,
            "grid_template_rows": null,
            "height": null,
            "justify_content": null,
            "justify_items": null,
            "left": null,
            "margin": null,
            "max_height": null,
            "max_width": null,
            "min_height": null,
            "min_width": null,
            "object_fit": null,
            "object_position": null,
            "order": null,
            "overflow": null,
            "overflow_x": null,
            "overflow_y": null,
            "padding": null,
            "right": null,
            "top": null,
            "visibility": null,
            "width": null
          }
        }
      }
    }
  },
  "cells": [
    {
      "cell_type": "markdown",
      "metadata": {
        "id": "view-in-github",
        "colab_type": "text"
      },
      "source": [
        "<a href=\"https://colab.research.google.com/github/FabianaAlbuquerque97/temporal-probabilistic-models/blob/main/Rede_Bayesiana_Din%C3%A2mica_(DBN)_v2.ipynb\" target=\"_parent\"><img src=\"https://colab.research.google.com/assets/colab-badge.svg\" alt=\"Open In Colab\"/></a>"
      ]
    },
    {
      "cell_type": "markdown",
      "source": [
        "## Rede Bayesiana Dinâmica (DBN)\n",
        "\n",
        "Modelar a progressão dos sintomas ao longo do tempo e como eles se relacionam com o estado oculto da doença (COVID-19, Gripe, Pneumonia)."
      ],
      "metadata": {
        "id": "ohBNe7JADjZd"
      }
    },
    {
      "cell_type": "code",
      "execution_count": null,
      "metadata": {
        "colab": {
          "base_uri": "https://localhost:8080/"
        },
        "id": "OMtzZpJMCuX1",
        "outputId": "b4575684-7ba3-4176-9ac9-4b0dd509eb6c"
      },
      "outputs": [
        {
          "output_type": "stream",
          "name": "stdout",
          "text": [
            "Collecting pgmpy\n",
            "  Downloading pgmpy-1.0.0-py3-none-any.whl.metadata (9.4 kB)\n",
            "Requirement already satisfied: networkx in /usr/local/lib/python3.11/dist-packages (from pgmpy) (3.4.2)\n",
            "Requirement already satisfied: numpy in /usr/local/lib/python3.11/dist-packages (from pgmpy) (2.0.2)\n",
            "Requirement already satisfied: scipy in /usr/local/lib/python3.11/dist-packages (from pgmpy) (1.15.3)\n",
            "Requirement already satisfied: scikit-learn in /usr/local/lib/python3.11/dist-packages (from pgmpy) (1.6.1)\n",
            "Requirement already satisfied: pandas in /usr/local/lib/python3.11/dist-packages (from pgmpy) (2.2.2)\n",
            "Requirement already satisfied: torch in /usr/local/lib/python3.11/dist-packages (from pgmpy) (2.6.0+cu124)\n",
            "Requirement already satisfied: statsmodels in /usr/local/lib/python3.11/dist-packages (from pgmpy) (0.14.4)\n",
            "Requirement already satisfied: tqdm in /usr/local/lib/python3.11/dist-packages (from pgmpy) (4.67.1)\n",
            "Requirement already satisfied: joblib in /usr/local/lib/python3.11/dist-packages (from pgmpy) (1.5.0)\n",
            "Requirement already satisfied: opt-einsum in /usr/local/lib/python3.11/dist-packages (from pgmpy) (3.4.0)\n",
            "Collecting pyro-ppl (from pgmpy)\n",
            "  Downloading pyro_ppl-1.9.1-py3-none-any.whl.metadata (7.8 kB)\n",
            "Requirement already satisfied: python-dateutil>=2.8.2 in /usr/local/lib/python3.11/dist-packages (from pandas->pgmpy) (2.9.0.post0)\n",
            "Requirement already satisfied: pytz>=2020.1 in /usr/local/lib/python3.11/dist-packages (from pandas->pgmpy) (2025.2)\n",
            "Requirement already satisfied: tzdata>=2022.7 in /usr/local/lib/python3.11/dist-packages (from pandas->pgmpy) (2025.2)\n",
            "Collecting pyro-api>=0.1.1 (from pyro-ppl->pgmpy)\n",
            "  Downloading pyro_api-0.1.2-py3-none-any.whl.metadata (2.5 kB)\n",
            "Requirement already satisfied: filelock in /usr/local/lib/python3.11/dist-packages (from torch->pgmpy) (3.18.0)\n",
            "Requirement already satisfied: typing-extensions>=4.10.0 in /usr/local/lib/python3.11/dist-packages (from torch->pgmpy) (4.13.2)\n",
            "Requirement already satisfied: jinja2 in /usr/local/lib/python3.11/dist-packages (from torch->pgmpy) (3.1.6)\n",
            "Requirement already satisfied: fsspec in /usr/local/lib/python3.11/dist-packages (from torch->pgmpy) (2025.3.2)\n",
            "Collecting nvidia-cuda-nvrtc-cu12==12.4.127 (from torch->pgmpy)\n",
            "  Downloading nvidia_cuda_nvrtc_cu12-12.4.127-py3-none-manylinux2014_x86_64.whl.metadata (1.5 kB)\n",
            "Collecting nvidia-cuda-runtime-cu12==12.4.127 (from torch->pgmpy)\n",
            "  Downloading nvidia_cuda_runtime_cu12-12.4.127-py3-none-manylinux2014_x86_64.whl.metadata (1.5 kB)\n",
            "Collecting nvidia-cuda-cupti-cu12==12.4.127 (from torch->pgmpy)\n",
            "  Downloading nvidia_cuda_cupti_cu12-12.4.127-py3-none-manylinux2014_x86_64.whl.metadata (1.6 kB)\n",
            "Collecting nvidia-cudnn-cu12==9.1.0.70 (from torch->pgmpy)\n",
            "  Downloading nvidia_cudnn_cu12-9.1.0.70-py3-none-manylinux2014_x86_64.whl.metadata (1.6 kB)\n",
            "Collecting nvidia-cublas-cu12==12.4.5.8 (from torch->pgmpy)\n",
            "  Downloading nvidia_cublas_cu12-12.4.5.8-py3-none-manylinux2014_x86_64.whl.metadata (1.5 kB)\n",
            "Collecting nvidia-cufft-cu12==11.2.1.3 (from torch->pgmpy)\n",
            "  Downloading nvidia_cufft_cu12-11.2.1.3-py3-none-manylinux2014_x86_64.whl.metadata (1.5 kB)\n",
            "Collecting nvidia-curand-cu12==10.3.5.147 (from torch->pgmpy)\n",
            "  Downloading nvidia_curand_cu12-10.3.5.147-py3-none-manylinux2014_x86_64.whl.metadata (1.5 kB)\n",
            "Collecting nvidia-cusolver-cu12==11.6.1.9 (from torch->pgmpy)\n",
            "  Downloading nvidia_cusolver_cu12-11.6.1.9-py3-none-manylinux2014_x86_64.whl.metadata (1.6 kB)\n",
            "Collecting nvidia-cusparse-cu12==12.3.1.170 (from torch->pgmpy)\n",
            "  Downloading nvidia_cusparse_cu12-12.3.1.170-py3-none-manylinux2014_x86_64.whl.metadata (1.6 kB)\n",
            "Requirement already satisfied: nvidia-cusparselt-cu12==0.6.2 in /usr/local/lib/python3.11/dist-packages (from torch->pgmpy) (0.6.2)\n",
            "Requirement already satisfied: nvidia-nccl-cu12==2.21.5 in /usr/local/lib/python3.11/dist-packages (from torch->pgmpy) (2.21.5)\n",
            "Requirement already satisfied: nvidia-nvtx-cu12==12.4.127 in /usr/local/lib/python3.11/dist-packages (from torch->pgmpy) (12.4.127)\n",
            "Collecting nvidia-nvjitlink-cu12==12.4.127 (from torch->pgmpy)\n",
            "  Downloading nvidia_nvjitlink_cu12-12.4.127-py3-none-manylinux2014_x86_64.whl.metadata (1.5 kB)\n",
            "Requirement already satisfied: triton==3.2.0 in /usr/local/lib/python3.11/dist-packages (from torch->pgmpy) (3.2.0)\n",
            "Requirement already satisfied: sympy==1.13.1 in /usr/local/lib/python3.11/dist-packages (from torch->pgmpy) (1.13.1)\n",
            "Requirement already satisfied: mpmath<1.4,>=1.1.0 in /usr/local/lib/python3.11/dist-packages (from sympy==1.13.1->torch->pgmpy) (1.3.0)\n",
            "Requirement already satisfied: threadpoolctl>=3.1.0 in /usr/local/lib/python3.11/dist-packages (from scikit-learn->pgmpy) (3.6.0)\n",
            "Requirement already satisfied: patsy>=0.5.6 in /usr/local/lib/python3.11/dist-packages (from statsmodels->pgmpy) (1.0.1)\n",
            "Requirement already satisfied: packaging>=21.3 in /usr/local/lib/python3.11/dist-packages (from statsmodels->pgmpy) (24.2)\n",
            "Requirement already satisfied: six>=1.5 in /usr/local/lib/python3.11/dist-packages (from python-dateutil>=2.8.2->pandas->pgmpy) (1.17.0)\n",
            "Requirement already satisfied: MarkupSafe>=2.0 in /usr/local/lib/python3.11/dist-packages (from jinja2->torch->pgmpy) (3.0.2)\n",
            "Downloading pgmpy-1.0.0-py3-none-any.whl (2.0 MB)\n",
            "\u001b[2K   \u001b[90m━━━━━━━━━━━━━━━━━━━━━━━━━━━━━━━━━━━━━━━━\u001b[0m \u001b[32m2.0/2.0 MB\u001b[0m \u001b[31m22.0 MB/s\u001b[0m eta \u001b[36m0:00:00\u001b[0m\n",
            "\u001b[?25hDownloading pyro_ppl-1.9.1-py3-none-any.whl (755 kB)\n",
            "\u001b[2K   \u001b[90m━━━━━━━━━━━━━━━━━━━━━━━━━━━━━━━━━━━━━━━━\u001b[0m \u001b[32m756.0/756.0 kB\u001b[0m \u001b[31m32.1 MB/s\u001b[0m eta \u001b[36m0:00:00\u001b[0m\n",
            "\u001b[?25hDownloading nvidia_cublas_cu12-12.4.5.8-py3-none-manylinux2014_x86_64.whl (363.4 MB)\n",
            "\u001b[2K   \u001b[90m━━━━━━━━━━━━━━━━━━━━━━━━━━━━━━━━━━━━━━━━\u001b[0m \u001b[32m363.4/363.4 MB\u001b[0m \u001b[31m4.0 MB/s\u001b[0m eta \u001b[36m0:00:00\u001b[0m\n",
            "\u001b[?25hDownloading nvidia_cuda_cupti_cu12-12.4.127-py3-none-manylinux2014_x86_64.whl (13.8 MB)\n",
            "\u001b[2K   \u001b[90m━━━━━━━━━━━━━━━━━━━━━━━━━━━━━━━━━━━━━━━━\u001b[0m \u001b[32m13.8/13.8 MB\u001b[0m \u001b[31m93.4 MB/s\u001b[0m eta \u001b[36m0:00:00\u001b[0m\n",
            "\u001b[?25hDownloading nvidia_cuda_nvrtc_cu12-12.4.127-py3-none-manylinux2014_x86_64.whl (24.6 MB)\n",
            "\u001b[2K   \u001b[90m━━━━━━━━━━━━━━━━━━━━━━━━━━━━━━━━━━━━━━━━\u001b[0m \u001b[32m24.6/24.6 MB\u001b[0m \u001b[31m73.2 MB/s\u001b[0m eta \u001b[36m0:00:00\u001b[0m\n",
            "\u001b[?25hDownloading nvidia_cuda_runtime_cu12-12.4.127-py3-none-manylinux2014_x86_64.whl (883 kB)\n",
            "\u001b[2K   \u001b[90m━━━━━━━━━━━━━━━━━━━━━━━━━━━━━━━━━━━━━━━━\u001b[0m \u001b[32m883.7/883.7 kB\u001b[0m \u001b[31m40.3 MB/s\u001b[0m eta \u001b[36m0:00:00\u001b[0m\n",
            "\u001b[?25hDownloading nvidia_cudnn_cu12-9.1.0.70-py3-none-manylinux2014_x86_64.whl (664.8 MB)\n",
            "\u001b[2K   \u001b[90m━━━━━━━━━━━━━━━━━━━━━━━━━━━━━━━━━━━━━━━━\u001b[0m \u001b[32m664.8/664.8 MB\u001b[0m \u001b[31m2.9 MB/s\u001b[0m eta \u001b[36m0:00:00\u001b[0m\n",
            "\u001b[?25hDownloading nvidia_cufft_cu12-11.2.1.3-py3-none-manylinux2014_x86_64.whl (211.5 MB)\n",
            "\u001b[2K   \u001b[90m━━━━━━━━━━━━━━━━━━━━━━━━━━━━━━━━━━━━━━━━\u001b[0m \u001b[32m211.5/211.5 MB\u001b[0m \u001b[31m6.0 MB/s\u001b[0m eta \u001b[36m0:00:00\u001b[0m\n",
            "\u001b[?25hDownloading nvidia_curand_cu12-10.3.5.147-py3-none-manylinux2014_x86_64.whl (56.3 MB)\n",
            "\u001b[2K   \u001b[90m━━━━━━━━━━━━━━━━━━━━━━━━━━━━━━━━━━━━━━━━\u001b[0m \u001b[32m56.3/56.3 MB\u001b[0m \u001b[31m12.6 MB/s\u001b[0m eta \u001b[36m0:00:00\u001b[0m\n",
            "\u001b[?25hDownloading nvidia_cusolver_cu12-11.6.1.9-py3-none-manylinux2014_x86_64.whl (127.9 MB)\n",
            "\u001b[2K   \u001b[90m━━━━━━━━━━━━━━━━━━━━━━━━━━━━━━━━━━━━━━━━\u001b[0m \u001b[32m127.9/127.9 MB\u001b[0m \u001b[31m7.3 MB/s\u001b[0m eta \u001b[36m0:00:00\u001b[0m\n",
            "\u001b[?25hDownloading nvidia_cusparse_cu12-12.3.1.170-py3-none-manylinux2014_x86_64.whl (207.5 MB)\n",
            "\u001b[2K   \u001b[90m━━━━━━━━━━━━━━━━━━━━━━━━━━━━━━━━━━━━━━━━\u001b[0m \u001b[32m207.5/207.5 MB\u001b[0m \u001b[31m6.0 MB/s\u001b[0m eta \u001b[36m0:00:00\u001b[0m\n",
            "\u001b[?25hDownloading nvidia_nvjitlink_cu12-12.4.127-py3-none-manylinux2014_x86_64.whl (21.1 MB)\n",
            "\u001b[2K   \u001b[90m━━━━━━━━━━━━━━━━━━━━━━━━━━━━━━━━━━━━━━━━\u001b[0m \u001b[32m21.1/21.1 MB\u001b[0m \u001b[31m24.7 MB/s\u001b[0m eta \u001b[36m0:00:00\u001b[0m\n",
            "\u001b[?25hDownloading pyro_api-0.1.2-py3-none-any.whl (11 kB)\n",
            "Installing collected packages: pyro-api, nvidia-nvjitlink-cu12, nvidia-curand-cu12, nvidia-cufft-cu12, nvidia-cuda-runtime-cu12, nvidia-cuda-nvrtc-cu12, nvidia-cuda-cupti-cu12, nvidia-cublas-cu12, nvidia-cusparse-cu12, nvidia-cudnn-cu12, nvidia-cusolver-cu12, pyro-ppl, pgmpy\n",
            "  Attempting uninstall: nvidia-nvjitlink-cu12\n",
            "    Found existing installation: nvidia-nvjitlink-cu12 12.5.82\n",
            "    Uninstalling nvidia-nvjitlink-cu12-12.5.82:\n",
            "      Successfully uninstalled nvidia-nvjitlink-cu12-12.5.82\n",
            "  Attempting uninstall: nvidia-curand-cu12\n",
            "    Found existing installation: nvidia-curand-cu12 10.3.6.82\n",
            "    Uninstalling nvidia-curand-cu12-10.3.6.82:\n",
            "      Successfully uninstalled nvidia-curand-cu12-10.3.6.82\n",
            "  Attempting uninstall: nvidia-cufft-cu12\n",
            "    Found existing installation: nvidia-cufft-cu12 11.2.3.61\n",
            "    Uninstalling nvidia-cufft-cu12-11.2.3.61:\n",
            "      Successfully uninstalled nvidia-cufft-cu12-11.2.3.61\n",
            "  Attempting uninstall: nvidia-cuda-runtime-cu12\n",
            "    Found existing installation: nvidia-cuda-runtime-cu12 12.5.82\n",
            "    Uninstalling nvidia-cuda-runtime-cu12-12.5.82:\n",
            "      Successfully uninstalled nvidia-cuda-runtime-cu12-12.5.82\n",
            "  Attempting uninstall: nvidia-cuda-nvrtc-cu12\n",
            "    Found existing installation: nvidia-cuda-nvrtc-cu12 12.5.82\n",
            "    Uninstalling nvidia-cuda-nvrtc-cu12-12.5.82:\n",
            "      Successfully uninstalled nvidia-cuda-nvrtc-cu12-12.5.82\n",
            "  Attempting uninstall: nvidia-cuda-cupti-cu12\n",
            "    Found existing installation: nvidia-cuda-cupti-cu12 12.5.82\n",
            "    Uninstalling nvidia-cuda-cupti-cu12-12.5.82:\n",
            "      Successfully uninstalled nvidia-cuda-cupti-cu12-12.5.82\n",
            "  Attempting uninstall: nvidia-cublas-cu12\n",
            "    Found existing installation: nvidia-cublas-cu12 12.5.3.2\n",
            "    Uninstalling nvidia-cublas-cu12-12.5.3.2:\n",
            "      Successfully uninstalled nvidia-cublas-cu12-12.5.3.2\n",
            "  Attempting uninstall: nvidia-cusparse-cu12\n",
            "    Found existing installation: nvidia-cusparse-cu12 12.5.1.3\n",
            "    Uninstalling nvidia-cusparse-cu12-12.5.1.3:\n",
            "      Successfully uninstalled nvidia-cusparse-cu12-12.5.1.3\n",
            "  Attempting uninstall: nvidia-cudnn-cu12\n",
            "    Found existing installation: nvidia-cudnn-cu12 9.3.0.75\n",
            "    Uninstalling nvidia-cudnn-cu12-9.3.0.75:\n",
            "      Successfully uninstalled nvidia-cudnn-cu12-9.3.0.75\n",
            "  Attempting uninstall: nvidia-cusolver-cu12\n",
            "    Found existing installation: nvidia-cusolver-cu12 11.6.3.83\n",
            "    Uninstalling nvidia-cusolver-cu12-11.6.3.83:\n",
            "      Successfully uninstalled nvidia-cusolver-cu12-11.6.3.83\n",
            "Successfully installed nvidia-cublas-cu12-12.4.5.8 nvidia-cuda-cupti-cu12-12.4.127 nvidia-cuda-nvrtc-cu12-12.4.127 nvidia-cuda-runtime-cu12-12.4.127 nvidia-cudnn-cu12-9.1.0.70 nvidia-cufft-cu12-11.2.1.3 nvidia-curand-cu12-10.3.5.147 nvidia-cusolver-cu12-11.6.1.9 nvidia-cusparse-cu12-12.3.1.170 nvidia-nvjitlink-cu12-12.4.127 pgmpy-1.0.0 pyro-api-0.1.2 pyro-ppl-1.9.1\n"
          ]
        }
      ],
      "source": [
        "!pip install pgmpy"
      ]
    },
    {
      "cell_type": "code",
      "source": [
        "# Importação das bibliotecas necessárias\n",
        "import networkx as nx\n",
        "import matplotlib.pyplot as plt\n",
        "from pgmpy.models import DynamicBayesianNetwork as DBN\n",
        "from pgmpy.factors.discrete import TabularCPD\n",
        "from pgmpy.inference import DBNInference\n",
        "import seaborn as sns\n",
        "import pandas as pd\n",
        "import ipywidgets as widgets\n",
        "from IPython.display import display\n",
        "import numpy as np\n"
      ],
      "metadata": {
        "id": "JZ9fItCcErVN"
      },
      "execution_count": null,
      "outputs": []
    },
    {
      "cell_type": "code",
      "source": [
        "# Criação do modelo de Rede Bayesiana Dinâmica (DBN)\n",
        "\n",
        "# Cada variável é representada por um par (variável, tempo).\n",
        "# Aqui modelamos a relação entre a Doença e os sintomas: Febre, Tosse, Fadiga.\n",
        "\n",
        "# A doença no tempo 0 influencia os sintomas no tempo 0.\n",
        "# A doença no tempo 0 também influencia a própria doença no tempo 1, modelando a progressão temporal.\n",
        "# A doença no tempo 1 influencia os sintomas no tempo 1.\n",
        "\n",
        "model = DBN()\n",
        "\n",
        "model.add_edges_from([\n",
        "    (('Doenca', 0), ('Febre', 0)),\n",
        "    (('Doenca', 0), ('Tosse', 0)),\n",
        "    (('Doenca', 0), ('Fadiga', 0)),\n",
        "    (('Doenca', 0), ('Doenca', 1)),\n",
        "    (('Doenca', 1), ('Febre', 1)),\n",
        "    (('Doenca', 1), ('Tosse', 1)),\n",
        "    (('Doenca', 1), ('Fadiga', 1)),\n",
        "])\n"
      ],
      "metadata": {
        "id": "YN4Joit0ExIk"
      },
      "execution_count": null,
      "outputs": []
    },
    {
      "cell_type": "code",
      "source": [
        "# Definição das CPDs (Distribuições de Probabilidade Condicional) no tempo 0\n",
        "\n",
        "# 'Doenca' possui 3 estados: Gripe, COVID-19, Pneumonia.\n",
        "# Os sintomas são binários: Presença (1) ou Ausência (0).\n",
        "\n",
        "cpd_doenca_0 = TabularCPD(('Doenca', 0), 3, [[0.3], [0.5], [0.2]])  # Priori: Gripe 30%, COVID-19 50%, Pneumonia 20%\n",
        "\n",
        "# Probabilidades condicionais dos sintomas, dado o estado da doença.\n",
        "cpd_febre_0 = TabularCPD(('Febre', 0), 2,\n",
        "                         [[0.9, 0.7, 0.6],  # P(Febre=0 | Doenca)\n",
        "                          [0.1, 0.3, 0.4]], # P(Febre=1 | Doenca)\n",
        "                         evidence=[('Doenca', 0)],\n",
        "                         evidence_card=[3])\n",
        "\n",
        "cpd_tosse_0 = TabularCPD(('Tosse', 0), 2,\n",
        "                         [[0.7, 0.4, 0.3],\n",
        "                          [0.3, 0.6, 0.7]],\n",
        "                         evidence=[('Doenca', 0)],\n",
        "                         evidence_card=[3])\n",
        "\n",
        "cpd_fadiga_0 = TabularCPD(('Fadiga', 0), 2,\n",
        "                          [[0.8, 0.5, 0.4],\n",
        "                           [0.2, 0.5, 0.6]],\n",
        "                          evidence=[('Doenca', 0)],\n",
        "                          evidence_card=[3])\n"
      ],
      "metadata": {
        "id": "4IIw59GVE4Jw"
      },
      "execution_count": null,
      "outputs": []
    },
    {
      "cell_type": "code",
      "source": [
        "# Transição da doença do tempo 0 para o tempo 1\n",
        "cpd_doenca_trans = TabularCPD(('Doenca', 1), 3,\n",
        "                               [[0.7, 0.2, 0.1],   # P(Doenca=Gripe | Doenca_t-1)\n",
        "                                [0.1, 0.7, 0.2],   # P(Doenca=COVID-19 | Doenca_t-1)\n",
        "                                [0.2, 0.1, 0.7]],  # P(Doenca=Pneumonia | Doenca_t-1)\n",
        "                               evidence=[('Doenca', 0)],\n",
        "                               evidence_card=[3])\n",
        "\n",
        "# CPDs dos sintomas no tempo 1, mesma lógica do tempo 0\n",
        "cpd_febre_1 = TabularCPD(('Febre', 1), 2,\n",
        "                         [[0.85, 0.6, 0.5],\n",
        "                          [0.15, 0.4, 0.5]],\n",
        "                         evidence=[('Doenca', 1)],\n",
        "                         evidence_card=[3])\n",
        "\n",
        "cpd_tosse_1 = TabularCPD(('Tosse', 1), 2,\n",
        "                         [[0.6, 0.3, 0.2],\n",
        "                          [0.4, 0.7, 0.8]],\n",
        "                         evidence=[('Doenca', 1)],\n",
        "                         evidence_card=[3])\n",
        "\n",
        "cpd_fadiga_1 = TabularCPD(('Fadiga', 1), 2,\n",
        "                          [[0.75, 0.55, 0.35],\n",
        "                           [0.25, 0.45, 0.65]],\n",
        "                          evidence=[('Doenca', 1)],\n",
        "                          evidence_card=[3])\n"
      ],
      "metadata": {
        "id": "E2-Y3JACFEcC"
      },
      "execution_count": null,
      "outputs": []
    },
    {
      "cell_type": "code",
      "source": [
        "# Adicionando as CPDs ao modelo\n",
        "\n",
        "model.add_cpds(cpd_doenca_0,\n",
        "               cpd_febre_0,\n",
        "               cpd_tosse_0,\n",
        "               cpd_fadiga_0,\n",
        "               cpd_doenca_trans,\n",
        "               cpd_febre_1,\n",
        "               cpd_tosse_1,\n",
        "               cpd_fadiga_1)\n"
      ],
      "metadata": {
        "id": "7POuDi2MFLii"
      },
      "execution_count": null,
      "outputs": []
    },
    {
      "cell_type": "code",
      "source": [
        "# Verificação se o modelo está bem definido\n",
        "assert model.check_model(), \"O modelo está incorreto!\"\n"
      ],
      "metadata": {
        "id": "miu47D_jOrcX"
      },
      "execution_count": null,
      "outputs": []
    },
    {
      "cell_type": "code",
      "source": [
        "# Criar grafo dirigido\n",
        "G = nx.DiGraph()\n",
        "\n",
        "# Adicionando os nós\n",
        "for node in model.nodes():\n",
        "    G.add_node(f\"{node[0]}_{node[1]}\")  # node é uma tupla: (nome, tempo)\n",
        "\n",
        "# Adicionando as arestas\n",
        "for edge in model.edges():\n",
        "    from_node = f\"{edge[0][0]}_{edge[0][1]}\"\n",
        "    to_node = f\"{edge[1][0]}_{edge[1][1]}\"\n",
        "    G.add_edge(from_node, to_node)\n",
        "\n",
        "# Plotando o grafo\n",
        "plt.figure(figsize=(10, 6))\n",
        "pos = nx.spring_layout(G, seed=42)  # layout estável\n",
        "nx.draw_networkx(G, pos, with_labels=True, node_size=2000, node_color='lightblue', font_size=10, arrows=True)\n",
        "\n",
        "plt.title(\"Estrutura da Rede Bayesiana Dinâmica (DBN)\")\n",
        "plt.show()\n"
      ],
      "metadata": {
        "colab": {
          "base_uri": "https://localhost:8080/",
          "height": 521
        },
        "id": "qLZqHj33pI6c",
        "outputId": "7b037111-4400-44bc-86a4-d71738b1d71b"
      },
      "execution_count": null,
      "outputs": [
        {
          "output_type": "display_data",
          "data": {
            "text/plain": [
              "<Figure size 1000x600 with 1 Axes>"
            ],
            "image/png": "[encoded data removed]"
          },
          "metadata": {}
        }
      ]
    },
    {
      "cell_type": "code",
      "source": [
        "# Exemplo de Inferência na DBN\n",
        "\n",
        "# Criando objeto de inferência\n",
        "dbn_infer = DBNInference(model)\n",
        "\n",
        "# Consultando: Qual a probabilidade da Doença no tempo 0, dado que há Febre e Tosse no tempo 0?\n",
        "query = dbn_infer.query(variables=[('Doenca', 0)],\n",
        "                        evidence={('Febre', 0): 1, ('Tosse', 0): 1})\n",
        "\n",
        "print(\"Inferência - Distribuição de probabilidade para Doença no tempo 0:\")\n",
        "print(query)\n"
      ],
      "metadata": {
        "colab": {
          "base_uri": "https://localhost:8080/"
        },
        "id": "kfYDHCPJO6et",
        "outputId": "3650f0c3-17ed-4acc-89e6-50c7654f2de6"
      },
      "execution_count": null,
      "outputs": [
        {
          "output_type": "stream",
          "name": "stderr",
          "text": [
            "WARNING:pgmpy:Replacing existing CPD for ('Doenca', 1)\n"
          ]
        },
        {
          "output_type": "stream",
          "name": "stdout",
          "text": [
            "Inferência - Distribuição de probabilidade para Doença no tempo 0:\n",
            "{('Doenca', 0): <DiscreteFactor representing phi(('Doenca', 0):3) at 0x77ff8ac7f450>}\n"
          ]
        }
      ]
    },
    {
      "cell_type": "code",
      "source": [
        "# Inferência: Qual a probabilidade da Doença no tempo 1, dado Febre e Tosse no tempo 1?\n",
        "\n",
        "query_t1 = dbn_infer.query(variables=[('Doenca', 1)],\n",
        "                           evidence={('Febre', 1): 1, ('Tosse', 1): 1})\n",
        "\n",
        "print(\"\\nInferência - Distribuição de probabilidade para Doença no tempo 1, dados sintomas no tempo 1:\")\n",
        "print(query_t1)\n"
      ],
      "metadata": {
        "colab": {
          "base_uri": "https://localhost:8080/"
        },
        "id": "xKfLI7FMknsF",
        "outputId": "d128b807-7106-4591-b080-c5e1d391953d"
      },
      "execution_count": null,
      "outputs": [
        {
          "output_type": "stream",
          "name": "stdout",
          "text": [
            "\n",
            "Inferência - Distribuição de probabilidade para Doença no tempo 1, dados sintomas no tempo 1:\n",
            "{('Doenca', 1): <DiscreteFactor representing phi(('Doenca', 1):3) at 0x77ff8abe5b10>}\n"
          ]
        }
      ]
    },
    {
      "cell_type": "code",
      "source": [
        "# Inferência cruzada: sintomas no tempo 0 e 1\n",
        "\n",
        "query_cross = dbn_infer.query(variables=[('Doenca', 1)],\n",
        "                              evidence={('Febre', 0): 1,\n",
        "                                        ('Tosse', 0): 1,\n",
        "                                        ('Febre', 1): 1,\n",
        "                                        ('Tosse', 1): 0})\n",
        "\n",
        "print(\"\\nInferência - Distribuição de probabilidade para Doença no tempo 1, dados sintomas nos tempos 0 e 1:\")\n",
        "print(query_cross)\n"
      ],
      "metadata": {
        "colab": {
          "base_uri": "https://localhost:8080/"
        },
        "id": "NrYDRl_4kvik",
        "outputId": "89184118-b055-49f5-bc41-5bd88b75e68a"
      },
      "execution_count": null,
      "outputs": [
        {
          "output_type": "stream",
          "name": "stdout",
          "text": [
            "\n",
            "Inferência - Distribuição de probabilidade para Doença no tempo 1, dados sintomas nos tempos 0 e 1:\n",
            "{('Doenca', 1): <DiscreteFactor representing phi(('Doenca', 1):3) at 0x77ff8ac6db90>}\n"
          ]
        }
      ]
    },
    {
      "cell_type": "code",
      "source": [
        "# Inferência sobre múltiplos sintomas e fadiga\n",
        "\n",
        "\n",
        "query_fadiga = dbn_infer.query(variables=[('Doenca', 1)],\n",
        "                               evidence={('Febre', 1): 1,\n",
        "                                         ('Tosse', 1): 0,\n",
        "                                         ('Fadiga', 1): 1})\n",
        "\n",
        "print(\"\\nInferência - Distribuição de probabilidade para Doença no tempo 1, dados Febre e Fadiga no tempo 1:\")\n",
        "print(query_fadiga)\n"
      ],
      "metadata": {
        "colab": {
          "base_uri": "https://localhost:8080/"
        },
        "id": "4csm_cuYk0Po",
        "outputId": "b48459b4-4989-4811-d163-dc210814005d"
      },
      "execution_count": null,
      "outputs": [
        {
          "output_type": "stream",
          "name": "stdout",
          "text": [
            "\n",
            "Inferência - Distribuição de probabilidade para Doença no tempo 1, dados Febre e Fadiga no tempo 1:\n",
            "{('Doenca', 1): <DiscreteFactor representing phi(('Doenca', 1):3) at 0x77ff8aa796d0>}\n"
          ]
        }
      ]
    },
    {
      "cell_type": "code",
      "source": [
        "# Gráficos de barra automáticos para visualizar os resultados das inferências\n",
        "\n",
        "%matplotlib inline\n",
        "\n",
        "def plot_inference_result(query_result, variable_name):\n",
        "    \"\"\"\n",
        "    Função para plotar um gráfico de barras para os resultados de inferência.\n",
        "    \"\"\"\n",
        "    # Se for dict, pega o fator correspondente\n",
        "    if isinstance(query_result, dict):\n",
        "        result = query_result[variable_name]\n",
        "    else:\n",
        "        result = query_result\n",
        "\n",
        "    prob_values = result.values\n",
        "    states = result.state_names[variable_name]\n",
        "\n",
        "    df = pd.DataFrame({'Estado': states, 'Probabilidade': prob_values})\n",
        "\n",
        "    plt.figure(figsize=(6,4))\n",
        "    sns.barplot(data=df, x='Estado', y='Probabilidade', palette='Blues_d')\n",
        "    plt.title(f'Distribuição de {variable_name}')\n",
        "    plt.ylim(0, 1)\n",
        "    plt.show()\n",
        "\n",
        "plot_inference_result(query, ('Doenca', 0))"
      ],
      "metadata": {
        "colab": {
          "base_uri": "https://localhost:8080/",
          "height": 517
        },
        "id": "_RUfKKJXm9uY",
        "outputId": "8ab1d035-4a9e-4c32-d424-0586bae4b73c"
      },
      "execution_count": null,
      "outputs": [
        {
          "output_type": "stream",
          "name": "stderr",
          "text": [
            "<ipython-input-13-7239ce9b38a5>:21: FutureWarning: \n",
            "\n",
            "Passing `palette` without assigning `hue` is deprecated and will be removed in v0.14.0. Assign the `x` variable to `hue` and set `legend=False` for the same effect.\n",
            "\n",
            "  sns.barplot(data=df, x='Estado', y='Probabilidade', palette='Blues_d')\n"
          ]
        },
        {
          "output_type": "display_data",
          "data": {
            "text/plain": [
              "<Figure size 600x400 with 1 Axes>"
            ],
            "image/png": "[encoded data removed]"
          },
          "metadata": {}
        }
      ]
    },
    {
      "cell_type": "code",
      "source": [
        "%matplotlib inline\n",
        "\n",
        "def plot_inference_multiple_times(infer, variable_name, times):\n",
        "    \"\"\"\n",
        "    Plota gráficos de inferência lado a lado para múltiplos tempos.\n",
        "\n",
        "    infer: objeto de inferência (DBNInference)\n",
        "    variable_name: nome da variável (string), ex: 'Doenca'\n",
        "    times: lista de tempos, ex: [0, 1, 2]\n",
        "    \"\"\"\n",
        "    n = len(times)\n",
        "    fig, axes = plt.subplots(1, n, figsize=(5*n, 4))\n",
        "\n",
        "    for idx, t in enumerate(times):\n",
        "        query_result = infer.query(variables=[(variable_name, t)])\n",
        "\n",
        "        # Se for dict, pega o fator correspondente\n",
        "        if isinstance(query_result, dict):\n",
        "            result = query_result[(variable_name, t)]\n",
        "        else:\n",
        "            result = query_result\n",
        "\n",
        "        prob_values = result.values\n",
        "        states = result.state_names[(variable_name, t)]\n",
        "\n",
        "        df = pd.DataFrame({'Estado': states, 'Probabilidade': prob_values})\n",
        "\n",
        "        sns.barplot(data=df, x='Estado', y='Probabilidade', palette='Blues_d', ax=axes[idx])\n",
        "        axes[idx].set_title(f'{variable_name}, tempo {t}')\n",
        "        axes[idx].set_ylim(0, 1)\n",
        "\n",
        "    plt.tight_layout()\n",
        "    plt.show()\n",
        "\n",
        "# Exemplo:\n",
        "plot_inference_multiple_times(dbn_infer, 'Doenca', times=[0, 1])\n"
      ],
      "metadata": {
        "colab": {
          "base_uri": "https://localhost:8080/",
          "height": 601
        },
        "id": "FdKopCJIto-z",
        "outputId": "be5eae05-1e34-4e6a-dda8-1496032efae9"
      },
      "execution_count": null,
      "outputs": [
        {
          "output_type": "stream",
          "name": "stderr",
          "text": [
            "<ipython-input-14-ea092d5d8b78>:28: FutureWarning: \n",
            "\n",
            "Passing `palette` without assigning `hue` is deprecated and will be removed in v0.14.0. Assign the `x` variable to `hue` and set `legend=False` for the same effect.\n",
            "\n",
            "  sns.barplot(data=df, x='Estado', y='Probabilidade', palette='Blues_d', ax=axes[idx])\n",
            "<ipython-input-14-ea092d5d8b78>:28: FutureWarning: \n",
            "\n",
            "Passing `palette` without assigning `hue` is deprecated and will be removed in v0.14.0. Assign the `x` variable to `hue` and set `legend=False` for the same effect.\n",
            "\n",
            "  sns.barplot(data=df, x='Estado', y='Probabilidade', palette='Blues_d', ax=axes[idx])\n"
          ]
        },
        {
          "output_type": "display_data",
          "data": {
            "text/plain": [
              "<Figure size 1000x400 with 2 Axes>"
            ],
            "image/png": "[encoded data removed]"
          },
          "metadata": {}
        }
      ]
    },
    {
      "cell_type": "markdown",
      "source": [
        "# Elemento interativo - inferência dinâmica"
      ],
      "metadata": {
        "id": "csqKpYsF5WnZ"
      }
    },
    {
      "cell_type": "code",
      "source": [
        "\"\"\" Elemento interativo com widgets para inferência dinâmica\n",
        "# Poderá interagir diretamente e ver a distribuição de probabilidades alterando os sintomas nas caixas entre 0 e 1 para febre, tosse e fadiga!\n",
        "\n",
        "# ------------------------------------------\n",
        "# Dicionário dos estados\n",
        "estado_dict = {0: 'Gripe', 1: 'COVID-19', 2: 'Pneumonia'}\n",
        "estados_modelo = list(estado_dict.values())          # ['Gripe', 'COVID-19', 'Pneumonia']\n",
        "\n",
        "priors = {'Gripe': 0.30, 'COVID-19': 0.50, 'Pneumonia': 0.20}\n",
        "\n",
        "# Exemplo de redefinição da CPD raiz :\n",
        "# from pgmpy.factors.discrete import TabularCPD\n",
        "# cpd_doenca0 = TabularCPD(\n",
        "#       variable=('Doenca', 0),\n",
        "#       variable_card=3,\n",
        "#       values=[[priors['Gripe']], [priors['COVID-19']], [priors['Pneumonia']]])\n",
        "# dbn.add_cpds(cpd_doenca0)   # substitui a CPD anterior\n",
        "\n",
        "# ------------------------------------------\n",
        "# Função de inferência interativa\n",
        "def interactive_inference(febre, tosse, fadiga):\n",
        "    \"\"\"\n",
        "    Quando febre=tosse=fadiga=0: estado Saudável com prob 1.\n",
        "    Caso contrário: roda inferência na DBN e mostra distribuição\n",
        "    para Gripe / COVID-19 / Pneumonia.\n",
        "    \"\"\"\n",
        "\n",
        "    # Caso \"tudo zero\"  →  Saudável\n",
        "    if febre == 0 and tosse == 0 and fadiga == 0:\n",
        "        df = pd.DataFrame({'Estado': ['Saudável'], 'Probabilidade': [1.0]})\n",
        "        print(f\"\\nEvidência: Febre={febre}, Tosse={tosse}, Fadiga={fadiga}\")\n",
        "        print(\"Resultado da Inferência:\\nSaudável: 1.00\")\n",
        "        estado_mais_provavel = 'Saudável'\n",
        "        prob_max = 1.0\n",
        "    else:\n",
        "        # Evidência nos nós de sintomas no tempo 0\n",
        "        evidence = {('Febre', 0): febre,\n",
        "                    ('Tosse', 0): tosse,\n",
        "                    ('Fadiga', 0): fadiga}\n",
        "\n",
        "        # Inferência\n",
        "        result = dbn_infer.query(variables=[('Doenca', 0)], evidence=evidence)\n",
        "\n",
        "        # Compatibilidade pgmpy < 0.2\n",
        "        if isinstance(result, dict):\n",
        "            result = result[('Doenca', 0)]\n",
        "\n",
        "        prob_values = result.values           # numpy array [p0, p1, p2]\n",
        "        states      = result.state_names[('Doenca', 0)]  # ['0', '1', '2'] ou ints\n",
        "\n",
        "        # Constrói DataFrame para o gráfico\n",
        "        df = pd.DataFrame({\n",
        "            'Estado': [estado_dict[int(s)] for s in states],\n",
        "            'Probabilidade': prob_values\n",
        "        })\n",
        "\n",
        "        # Maior probabilidade\n",
        "        idx_max = np.argmax(prob_values)\n",
        "        estado_mais_provavel = estado_dict[int(states[idx_max])]\n",
        "        prob_max = prob_values[idx_max]\n",
        "\n",
        "        # Impressão amigável no console\n",
        "        print(f\"\\nEvidência: Febre={febre}, Tosse={tosse}, Fadiga={fadiga}\")\n",
        "        print(\"Resultado da Inferência:\")\n",
        "        for s, p in zip(states, prob_values):\n",
        "            print(f\"{estado_dict[int(s)]}: {p:.2f}\")\n",
        "\n",
        "    # Resumo\n",
        "    print(f\"\\n✅ Doença mais provável: **{estado_mais_provavel}** \"\n",
        "          f\"com probabilidade de {prob_max:.2%}\")\n",
        "\n",
        "    # Gráfico\n",
        "    plt.figure(figsize=(6, 4))\n",
        "    sns.barplot(data=df, x='Estado', y='Probabilidade', palette='coolwarm')\n",
        "    plt.title(\"Distribuição de Probabilidade\")\n",
        "    plt.ylim(0, 1)\n",
        "    plt.show()\n",
        "\n",
        "# ------------------------------------------\n",
        "# Widgets interativos\n",
        "import ipywidgets as widgets\n",
        "febre_widget  = widgets.ToggleButtons(options=[0, 1], description='Febre')\n",
        "tosse_widget  = widgets.ToggleButtons(options=[0, 1], description='Tosse')\n",
        "fadiga_widget = widgets.ToggleButtons(options=[0, 1], description='Fadiga')\n",
        "\n",
        "widgets.interact(interactive_inference,\n",
        "                 febre=febre_widget,\n",
        "                 tosse=tosse_widget,\n",
        "                 fadiga=fadiga_widget) \"\"\"\n"
      ],
      "metadata": {
        "colab": {
          "base_uri": "https://localhost:8080/",
          "height": 835,
          "referenced_widgets": [
            "237facc3c372487da917abdfb78a2743",
            "bcfdc433ae4f484697af0b785d6e5a7e",
            "c41151f316d34ccf8b8eed777cb0933b",
            "5526cf9b809d4e329aab40c1d3720df3",
            "1e05941771e745339bf777e8a25cabab",
            "de4545d6f57d4182bea98b60ece6c378",
            "80cc9d5d0e2f4bf1a1e3b39364c4b6ff",
            "16e69fe622de483d83138200d2d03700",
            "5e065beba4544d83838e421560164d6e",
            "9f80685577c44e2a8058a8ffde2c8213",
            "e21497e814084d82a31278b617d0cad4",
            "09a5f1f32d4c49ebb37df2e75fd516ed",
            "9535fc1251324aaf953ffc125775a6a9"
          ]
        },
        "id": "V735ShNInPUL",
        "outputId": "218d4a74-1d92-484a-b693-b97eb782ed17"
      },
      "execution_count": null,
      "outputs": [
        {
          "output_type": "display_data",
          "data": {
            "text/plain": [
              "interactive(children=(ToggleButtons(description='Febre', options=(0, 1), value=0), ToggleButtons(description='…"
            ],
            "application/vnd.jupyter.widget-view+json": {
              "version_major": 2,
              "version_minor": 0,
              "model_id": "237facc3c372487da917abdfb78a2743"
            }
          },
          "metadata": {}
        },
        {
          "output_type": "execute_result",
          "data": {
            "text/plain": [
              "<function __main__.interactive_inference(febre, tosse, fadiga)>"
            ],
            "text/html": [
              "<div style=\"max-width:800px; border: 1px solid var(--colab-border-color);\"><style>\n",
              "      pre.function-repr-contents {\n",
              "        overflow-x: auto;\n",
              "        padding: 8px 12px;\n",
              "        max-height: 500px;\n",
              "      }\n",
              "\n",
              "      pre.function-repr-contents.function-repr-contents-collapsed {\n",
              "        cursor: pointer;\n",
              "        max-height: 100px;\n",
              "      }\n",
              "    </style>\n",
              "    <pre style=\"white-space: initial; background:\n",
              "         var(--colab-secondary-surface-color); padding: 8px 12px;\n",
              "         border-bottom: 1px solid var(--colab-border-color);\"><b>interactive_inference</b><br/>def interactive_inference(febre, tosse, fadiga)</pre><pre class=\"function-repr-contents function-repr-contents-collapsed\" style=\"\"><a class=\"filepath\" style=\"display:none\" href=\"#\">/content/&lt;ipython-input-17-05e86a3d3b52&gt;</a>Quando febre=tosse=fadiga=0: estado Saudável com prob 1.\n",
              "Caso contrário: roda inferência na DBN e mostra distribuição\n",
              "para Gripe / COVID-19 / Pneumonia.</pre></div>"
            ]
          },
          "metadata": {},
          "execution_count": 17
        }
      ]
    }
  ]
}